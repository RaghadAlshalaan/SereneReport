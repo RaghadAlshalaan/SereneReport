{
 "cells": [
  {
   "cell_type": "code",
   "execution_count": 47,
   "metadata": {},
   "outputs": [],
   "source": [
    "import datetime\n",
    "import pandas as pd\n",
    "import firebase_admin\n",
    "from firebase_admin import credentials\n",
    "from firebase_admin import firestore\n",
    "from firebase_admin import storage\n",
    "from datetime import date, timedelta\n",
    "import urllib.request, json \n",
    "import time\n",
    "%matplotlib inline\n",
    "from matplotlib import pyplot as plt\n",
    "import matplotlib.dates as mdates\n",
    "import os\n",
    "import csv\n",
    "from IPython.display import display\n",
    "from Model import trainData\n",
    "import random"
   ]
  },
  {
   "cell_type": "code",
   "execution_count": 48,
   "metadata": {},
   "outputs": [
    {
     "ename": "ValueError",
     "evalue": "The default Firebase app already exists. This means you called initialize_app() more than once without providing an app name as the second argument. In most cases you only need to call initialize_app() once. But if you do want to initialize multiple apps, pass a second argument to initialize_app() to give each app a unique name.",
     "output_type": "error",
     "traceback": [
      "\u001b[1;31m---------------------------------------------------------------------------\u001b[0m",
      "\u001b[1;31mValueError\u001b[0m                                Traceback (most recent call last)",
      "\u001b[1;32m<ipython-input-48-9186d7c38474>\u001b[0m in \u001b[0;36m<module>\u001b[1;34m\u001b[0m\n\u001b[0;32m      2\u001b[0m app = firebase_admin.initialize_app(cred ,  {\n\u001b[0;32m      3\u001b[0m     \u001b[1;34m'storageBucket'\u001b[0m\u001b[1;33m:\u001b[0m \u001b[1;34m'serene-2dfd6.appspot.com'\u001b[0m\u001b[1;33m,\u001b[0m\u001b[1;33m\u001b[0m\u001b[1;33m\u001b[0m\u001b[0m\n\u001b[1;32m----> 4\u001b[1;33m }, name='[DEFAULT]')\n\u001b[0m\u001b[0;32m      5\u001b[0m \u001b[0mdb\u001b[0m \u001b[1;33m=\u001b[0m \u001b[0mfirestore\u001b[0m\u001b[1;33m.\u001b[0m\u001b[0mclient\u001b[0m\u001b[1;33m(\u001b[0m\u001b[1;33m)\u001b[0m\u001b[1;33m\u001b[0m\u001b[1;33m\u001b[0m\u001b[0m\n",
      "\u001b[1;32m~\\Anaconda3\\lib\\site-packages\\firebase_admin\\__init__.py\u001b[0m in \u001b[0;36minitialize_app\u001b[1;34m(credential, options, name)\u001b[0m\n\u001b[0;32m     70\u001b[0m     \u001b[1;32mif\u001b[0m \u001b[0mname\u001b[0m \u001b[1;33m==\u001b[0m \u001b[0m_DEFAULT_APP_NAME\u001b[0m\u001b[1;33m:\u001b[0m\u001b[1;33m\u001b[0m\u001b[1;33m\u001b[0m\u001b[0m\n\u001b[0;32m     71\u001b[0m         raise ValueError((\n\u001b[1;32m---> 72\u001b[1;33m             \u001b[1;34m'The default Firebase app already exists. This means you called '\u001b[0m\u001b[1;33m\u001b[0m\u001b[1;33m\u001b[0m\u001b[0m\n\u001b[0m\u001b[0;32m     73\u001b[0m             \u001b[1;34m'initialize_app() more than once without providing an app name as '\u001b[0m\u001b[1;33m\u001b[0m\u001b[1;33m\u001b[0m\u001b[0m\n\u001b[0;32m     74\u001b[0m             \u001b[1;34m'the second argument. In most cases you only need to call '\u001b[0m\u001b[1;33m\u001b[0m\u001b[1;33m\u001b[0m\u001b[0m\n",
      "\u001b[1;31mValueError\u001b[0m: The default Firebase app already exists. This means you called initialize_app() more than once without providing an app name as the second argument. In most cases you only need to call initialize_app() once. But if you do want to initialize multiple apps, pass a second argument to initialize_app() to give each app a unique name."
     ]
    }
   ],
   "source": [
    "cred = credentials.Certificate(\"C:/Users/Dell/Documents/serene-2dfd6-firebase-adminsdk-gfc6o-a312184978.json\")\n",
    "app = firebase_admin.initialize_app(cred ,  {\n",
    "    'storageBucket': 'serene-2dfd6.appspot.com',\n",
    "}, name='[DEFAULT]')\n",
    "db = firestore.client()"
   ]
  },
  {
   "cell_type": "code",
   "execution_count": 49,
   "metadata": {},
   "outputs": [],
   "source": [
    "# get from app \n",
    "duration = 5\n",
    "userID = \"UqTdL3T7MteuQHBe1aNfSE9u0Na2\""
   ]
  },
  {
   "cell_type": "markdown",
   "metadata": {},
   "source": [
    "## Generate unique ID"
   ]
  },
  {
   "cell_type": "code",
   "execution_count": 50,
   "metadata": {},
   "outputs": [],
   "source": [
    "# generate report unique ID\n",
    "today = datetime.datetime.now()\n",
    "timestamp = today.strftime(\"%Y-%m-%d %H:%M:%S\")\n",
    "reportId = userID +\" \"+ timestamp\n",
    "reportId = reportId.replace(\" \",\"_\")"
   ]
  },
  {
   "cell_type": "code",
   "execution_count": 51,
   "metadata": {},
   "outputs": [
    {
     "data": {
      "text/plain": [
       "update_time {\n",
       "  seconds: 1585660356\n",
       "  nanos: 12803000\n",
       "}"
      ]
     },
     "execution_count": 51,
     "metadata": {},
     "output_type": "execute_result"
    }
   ],
   "source": [
    "# write to a collection \n",
    "doc_ref = db.collection(u'LastGeneratePatientReport').document('kb2B4KWxTWIHFDLk4ApX')\n",
    "doc_ref.set({\n",
    "    u'name':'anood from python',\n",
    "    u'age':'21'\n",
    "})"
   ]
  },
  {
   "cell_type": "code",
   "execution_count": 52,
   "metadata": {},
   "outputs": [
    {
     "ename": "FileNotFoundError",
     "evalue": "[Errno 2] No such file or directory: 'image.png'",
     "output_type": "error",
     "traceback": [
      "\u001b[1;31m---------------------------------------------------------------------------\u001b[0m",
      "\u001b[1;31mFileNotFoundError\u001b[0m                         Traceback (most recent call last)",
      "\u001b[1;32m<ipython-input-52-3a15a1382846>\u001b[0m in \u001b[0;36m<module>\u001b[1;34m\u001b[0m\n\u001b[0;32m      3\u001b[0m \u001b[0mimagePath\u001b[0m \u001b[1;33m=\u001b[0m \u001b[1;34m\"image.png\"\u001b[0m\u001b[1;33m\u001b[0m\u001b[1;33m\u001b[0m\u001b[0m\n\u001b[0;32m      4\u001b[0m \u001b[0mimageBlob\u001b[0m \u001b[1;33m=\u001b[0m \u001b[0mbucket\u001b[0m\u001b[1;33m.\u001b[0m\u001b[0mblob\u001b[0m\u001b[1;33m(\u001b[0m\u001b[1;34m\"7KXzpejWaRgyuZG9zcKttgaKd002/DoctorReport/python_img\"\u001b[0m\u001b[1;33m)\u001b[0m\u001b[1;33m\u001b[0m\u001b[1;33m\u001b[0m\u001b[0m\n\u001b[1;32m----> 5\u001b[1;33m \u001b[0mimageBlob\u001b[0m\u001b[1;33m.\u001b[0m\u001b[0mupload_from_filename\u001b[0m\u001b[1;33m(\u001b[0m\u001b[0mimagePath\u001b[0m\u001b[1;33m)\u001b[0m\u001b[1;33m\u001b[0m\u001b[1;33m\u001b[0m\u001b[0m\n\u001b[0m",
      "\u001b[1;32m~\\Anaconda3\\lib\\site-packages\\google\\cloud\\storage\\blob.py\u001b[0m in \u001b[0;36mupload_from_filename\u001b[1;34m(self, filename, content_type, client, predefined_acl)\u001b[0m\n\u001b[0;32m   1333\u001b[0m         \u001b[0mcontent_type\u001b[0m \u001b[1;33m=\u001b[0m \u001b[0mself\u001b[0m\u001b[1;33m.\u001b[0m\u001b[0m_get_content_type\u001b[0m\u001b[1;33m(\u001b[0m\u001b[0mcontent_type\u001b[0m\u001b[1;33m,\u001b[0m \u001b[0mfilename\u001b[0m\u001b[1;33m=\u001b[0m\u001b[0mfilename\u001b[0m\u001b[1;33m)\u001b[0m\u001b[1;33m\u001b[0m\u001b[1;33m\u001b[0m\u001b[0m\n\u001b[0;32m   1334\u001b[0m \u001b[1;33m\u001b[0m\u001b[0m\n\u001b[1;32m-> 1335\u001b[1;33m         \u001b[1;32mwith\u001b[0m \u001b[0mopen\u001b[0m\u001b[1;33m(\u001b[0m\u001b[0mfilename\u001b[0m\u001b[1;33m,\u001b[0m \u001b[1;34m\"rb\"\u001b[0m\u001b[1;33m)\u001b[0m \u001b[1;32mas\u001b[0m \u001b[0mfile_obj\u001b[0m\u001b[1;33m:\u001b[0m\u001b[1;33m\u001b[0m\u001b[1;33m\u001b[0m\u001b[0m\n\u001b[0m\u001b[0;32m   1336\u001b[0m             \u001b[0mtotal_bytes\u001b[0m \u001b[1;33m=\u001b[0m \u001b[0mos\u001b[0m\u001b[1;33m.\u001b[0m\u001b[0mfstat\u001b[0m\u001b[1;33m(\u001b[0m\u001b[0mfile_obj\u001b[0m\u001b[1;33m.\u001b[0m\u001b[0mfileno\u001b[0m\u001b[1;33m(\u001b[0m\u001b[1;33m)\u001b[0m\u001b[1;33m)\u001b[0m\u001b[1;33m.\u001b[0m\u001b[0mst_size\u001b[0m\u001b[1;33m\u001b[0m\u001b[1;33m\u001b[0m\u001b[0m\n\u001b[0;32m   1337\u001b[0m             self.upload_from_file(\n",
      "\u001b[1;31mFileNotFoundError\u001b[0m: [Errno 2] No such file or directory: 'image.png'"
     ]
    }
   ],
   "source": [
    "# store to firebase storage \n",
    "bucket = storage.bucket(app=app)\n",
    "imagePath = \"image.png\"\n",
    "imageBlob = bucket.blob(\"7KXzpejWaRgyuZG9zcKttgaKd002/DoctorReport/python_img\")\n",
    "imageBlob.upload_from_filename(imagePath)"
   ]
  },
  {
   "cell_type": "markdown",
   "metadata": {},
   "source": [
    "## get list of included dates  "
   ]
  },
  {
   "cell_type": "code",
   "execution_count": 58,
   "metadata": {},
   "outputs": [],
   "source": [
    "#get a a list of date between start and end date \n",
    "dates =[]\n",
    "for x in range(0 ,duration):\n",
    "    today=date.today() #revert to original\n",
    "    yesterday = today - datetime.timedelta(days=1)\n",
    "    start_date = (yesterday-timedelta(days=duration-x)).isoformat()\n",
    "    dates.append(start_date)"
   ]
  },
  {
   "cell_type": "markdown",
   "metadata": {},
   "source": [
    "## Generate a compelete DF"
   ]
  },
  {
   "cell_type": "code",
   "execution_count": 59,
   "metadata": {},
   "outputs": [],
   "source": [
    "df= pd.DataFrame()\n",
    "# loop through the storage and get the data\n",
    "sleep =[]\n",
    "for x in range(0 ,len(dates)):\n",
    "    #Sleep\n",
    "    blob = bucket.blob(userID+\"/fitbitData/\"+dates[x]+\"/\"+dates[x]+\"-sleep.json\")\n",
    "    # download the file \n",
    "    u = blob.generate_signed_url(datetime.timedelta(seconds=300), method='GET')\n",
    "    with urllib.request.urlopen(u) as url:\n",
    "        data = json.loads(url.read().decode())\n",
    "        sleepMinutes = data['summary'][\"totalMinutesAsleep\"]\n",
    "        \n",
    "    #Activity (Steps)\n",
    "    blob = bucket.blob(userID+\"/fitbitData/\"+dates[x]+\"/\"+dates[x]+\"-activity.json\")\n",
    "    # download the file \n",
    "    u = blob.generate_signed_url(datetime.timedelta(seconds=300), method='GET')\n",
    "    with urllib.request.urlopen(u) as url:\n",
    "        data = json.loads(url.read().decode())\n",
    "        steps = data['summary'][\"steps\"]\n",
    "    \n",
    "    #heartrate\n",
    "    blob = bucket.blob(userID+\"/fitbitData/\"+dates[x]+\"/\"+dates[x]+\"-heartrate.json\")\n",
    "    u = blob.generate_signed_url(datetime.timedelta(seconds=300), method='GET')\n",
    "    with urllib.request.urlopen(u) as url:\n",
    "        data = json.loads(url.read().decode())\n",
    "        df_heartrate = pd.DataFrame(data['activities-heart-intraday']['dataset'])\n",
    "    df_heartrate.time.apply(str)\n",
    "    df_heartrate['time'] = pd.to_datetime(df_heartrate['time'])\n",
    "    df_heartrate['hour'] = df_heartrate['time'].apply(lambda time: time.strftime('%H'))\n",
    "    df_heartrate.drop(['time'],axis=1, inplace = True)\n",
    "    heart_rate = df_heartrate.groupby([\"hour\"], as_index=False).mean()\n",
    "    heart_rate['sleepMin'] = sleepMinutes\n",
    "    heart_rate['TotalSteps'] = steps\n",
    "    heart_rate['date'] = dates[x]\n",
    "    heart_rate = heart_rate.astype({\"hour\": int})  \n",
    "    \n",
    "    \n",
    "    # append dataframe\n",
    "    df = df.append(heart_rate, ignore_index = True)\n"
   ]
  },
  {
   "cell_type": "code",
   "execution_count": 60,
   "metadata": {},
   "outputs": [
    {
     "data": {
      "text/html": [
       "<div>\n",
       "<style scoped>\n",
       "    .dataframe tbody tr th:only-of-type {\n",
       "        vertical-align: middle;\n",
       "    }\n",
       "\n",
       "    .dataframe tbody tr th {\n",
       "        vertical-align: top;\n",
       "    }\n",
       "\n",
       "    .dataframe thead th {\n",
       "        text-align: right;\n",
       "    }\n",
       "</style>\n",
       "<table border=\"1\" class=\"dataframe\">\n",
       "  <thead>\n",
       "    <tr style=\"text-align: right;\">\n",
       "      <th></th>\n",
       "      <th>hour</th>\n",
       "      <th>value</th>\n",
       "      <th>sleepMin</th>\n",
       "      <th>TotalSteps</th>\n",
       "      <th>date</th>\n",
       "    </tr>\n",
       "  </thead>\n",
       "  <tbody>\n",
       "    <tr>\n",
       "      <th>0</th>\n",
       "      <td>0</td>\n",
       "      <td>84.362069</td>\n",
       "      <td>315</td>\n",
       "      <td>4763</td>\n",
       "      <td>2020-03-26</td>\n",
       "    </tr>\n",
       "    <tr>\n",
       "      <th>1</th>\n",
       "      <td>1</td>\n",
       "      <td>92.250000</td>\n",
       "      <td>315</td>\n",
       "      <td>4763</td>\n",
       "      <td>2020-03-26</td>\n",
       "    </tr>\n",
       "    <tr>\n",
       "      <th>2</th>\n",
       "      <td>2</td>\n",
       "      <td>83.500000</td>\n",
       "      <td>315</td>\n",
       "      <td>4763</td>\n",
       "      <td>2020-03-26</td>\n",
       "    </tr>\n",
       "    <tr>\n",
       "      <th>3</th>\n",
       "      <td>3</td>\n",
       "      <td>80.283333</td>\n",
       "      <td>315</td>\n",
       "      <td>4763</td>\n",
       "      <td>2020-03-26</td>\n",
       "    </tr>\n",
       "    <tr>\n",
       "      <th>4</th>\n",
       "      <td>4</td>\n",
       "      <td>79.416667</td>\n",
       "      <td>315</td>\n",
       "      <td>4763</td>\n",
       "      <td>2020-03-26</td>\n",
       "    </tr>\n",
       "  </tbody>\n",
       "</table>\n",
       "</div>"
      ],
      "text/plain": [
       "   hour      value  sleepMin  TotalSteps        date\n",
       "0     0  84.362069       315        4763  2020-03-26\n",
       "1     1  92.250000       315        4763  2020-03-26\n",
       "2     2  83.500000       315        4763  2020-03-26\n",
       "3     3  80.283333       315        4763  2020-03-26\n",
       "4     4  79.416667       315        4763  2020-03-26"
      ]
     },
     "execution_count": 60,
     "metadata": {},
     "output_type": "execute_result"
    }
   ],
   "source": [
    "df.head(5)"
   ]
  },
  {
   "cell_type": "markdown",
   "metadata": {},
   "source": [
    "## Get user locations"
   ]
  },
  {
   "cell_type": "code",
   "execution_count": 61,
   "metadata": {},
   "outputs": [],
   "source": [
    "# get location from database\n",
    "loc_df = pd.DataFrame()\n",
    "locID = []\n",
    "locations = db.collection(u'PatientLocations').where(u'patientID', u'==', userID ).stream()\n",
    "\n",
    "for location in locations:\n",
    "    loc = location.to_dict()\n",
    "    locID.append(location.id)\n",
    "    loc_df = loc_df.append(pd.DataFrame(loc,index=[0]),ignore_index=True)\n",
    "    \n",
    "loc_df['id'] = locID\n",
    "  "
   ]
  },
  {
   "cell_type": "code",
   "execution_count": 62,
   "metadata": {},
   "outputs": [],
   "source": [
    "loc_df.drop(['anxietyLevel', 'lat','lng', 'patientID'  ], axis=1, inplace = True)"
   ]
  },
  {
   "cell_type": "code",
   "execution_count": 63,
   "metadata": {},
   "outputs": [
    {
     "data": {
      "text/html": [
       "<div>\n",
       "<style scoped>\n",
       "    .dataframe tbody tr th:only-of-type {\n",
       "        vertical-align: middle;\n",
       "    }\n",
       "\n",
       "    .dataframe tbody tr th {\n",
       "        vertical-align: top;\n",
       "    }\n",
       "\n",
       "    .dataframe thead th {\n",
       "        text-align: right;\n",
       "    }\n",
       "</style>\n",
       "<table border=\"1\" class=\"dataframe\">\n",
       "  <thead>\n",
       "    <tr style=\"text-align: right;\">\n",
       "      <th></th>\n",
       "      <th>name</th>\n",
       "      <th>time</th>\n",
       "      <th>lon</th>\n",
       "      <th>id</th>\n",
       "    </tr>\n",
       "  </thead>\n",
       "  <tbody>\n",
       "    <tr>\n",
       "      <th>206</th>\n",
       "      <td>Mountain View</td>\n",
       "      <td>2020-03-31 00:03:24.317000+00:00</td>\n",
       "      <td>-122.084</td>\n",
       "      <td>fe362815-fe90-4132-a3ff-984e3311aef3</td>\n",
       "    </tr>\n",
       "    <tr>\n",
       "      <th>207</th>\n",
       "      <td>Al Aqiq</td>\n",
       "      <td>2020-03-28 02:26:10+00:00</td>\n",
       "      <td>NaN</td>\n",
       "      <td>fec65963-d574-4c00-b234-2d4a31fe7af3</td>\n",
       "    </tr>\n",
       "    <tr>\n",
       "      <th>208</th>\n",
       "      <td>King Saud University</td>\n",
       "      <td>2020-02-27 02:05:05+00:00</td>\n",
       "      <td>NaN</td>\n",
       "      <td>qLDk39LMnWtSLbufhgNN</td>\n",
       "    </tr>\n",
       "    <tr>\n",
       "      <th>209</th>\n",
       "      <td>Al Malqa</td>\n",
       "      <td>2020-03-01 01:15:00+00:00</td>\n",
       "      <td>NaN</td>\n",
       "      <td>zI4A6Uzk7TB8NObz98jP</td>\n",
       "    </tr>\n",
       "    <tr>\n",
       "      <th>210</th>\n",
       "      <td>As Suwaidi</td>\n",
       "      <td>2020-03-24 11:14:13+00:00</td>\n",
       "      <td>NaN</td>\n",
       "      <td>zcLTicRPDYbnqHDrgjtj</td>\n",
       "    </tr>\n",
       "  </tbody>\n",
       "</table>\n",
       "</div>"
      ],
      "text/plain": [
       "                     name                             time      lon  \\\n",
       "206         Mountain View 2020-03-31 00:03:24.317000+00:00 -122.084   \n",
       "207               Al Aqiq        2020-03-28 02:26:10+00:00      NaN   \n",
       "208  King Saud University        2020-02-27 02:05:05+00:00      NaN   \n",
       "209              Al Malqa        2020-03-01 01:15:00+00:00      NaN   \n",
       "210            As Suwaidi        2020-03-24 11:14:13+00:00      NaN   \n",
       "\n",
       "                                       id  \n",
       "206  fe362815-fe90-4132-a3ff-984e3311aef3  \n",
       "207  fec65963-d574-4c00-b234-2d4a31fe7af3  \n",
       "208                  qLDk39LMnWtSLbufhgNN  \n",
       "209                  zI4A6Uzk7TB8NObz98jP  \n",
       "210                  zcLTicRPDYbnqHDrgjtj  "
      ]
     },
     "execution_count": 63,
     "metadata": {},
     "output_type": "execute_result"
    }
   ],
   "source": [
    "loc_df.tail(5)"
   ]
  },
  {
   "cell_type": "code",
   "execution_count": 64,
   "metadata": {},
   "outputs": [],
   "source": [
    "loc_df.time.apply(str)\n",
    "loc_df['time'] = pd.to_datetime(loc_df['time'])\n",
    "loc_df['date'] = pd.to_datetime(loc_df['time'], format='%Y:%M:%D').dt.date\n",
    "loc_df['hour'] = loc_df['time'].apply(lambda time: time.strftime('%H'))\n",
    "loc_df.drop(['time'], axis=1, inplace = True)\n",
    "loc_df.hour = loc_df.hour.astype(int) \n",
    "loc_df.date = loc_df.date.astype(str)\n",
    "df.date = df.date.astype(str)"
   ]
  },
  {
   "cell_type": "code",
   "execution_count": 65,
   "metadata": {},
   "outputs": [
    {
     "data": {
      "text/html": [
       "<div>\n",
       "<style scoped>\n",
       "    .dataframe tbody tr th:only-of-type {\n",
       "        vertical-align: middle;\n",
       "    }\n",
       "\n",
       "    .dataframe tbody tr th {\n",
       "        vertical-align: top;\n",
       "    }\n",
       "\n",
       "    .dataframe thead th {\n",
       "        text-align: right;\n",
       "    }\n",
       "</style>\n",
       "<table border=\"1\" class=\"dataframe\">\n",
       "  <thead>\n",
       "    <tr style=\"text-align: right;\">\n",
       "      <th></th>\n",
       "      <th>name</th>\n",
       "      <th>lon</th>\n",
       "      <th>id</th>\n",
       "      <th>date</th>\n",
       "      <th>hour</th>\n",
       "    </tr>\n",
       "  </thead>\n",
       "  <tbody>\n",
       "    <tr>\n",
       "      <th>206</th>\n",
       "      <td>Mountain View</td>\n",
       "      <td>-122.084</td>\n",
       "      <td>fe362815-fe90-4132-a3ff-984e3311aef3</td>\n",
       "      <td>2020-03-31</td>\n",
       "      <td>0</td>\n",
       "    </tr>\n",
       "    <tr>\n",
       "      <th>207</th>\n",
       "      <td>Al Aqiq</td>\n",
       "      <td>NaN</td>\n",
       "      <td>fec65963-d574-4c00-b234-2d4a31fe7af3</td>\n",
       "      <td>2020-03-28</td>\n",
       "      <td>2</td>\n",
       "    </tr>\n",
       "    <tr>\n",
       "      <th>208</th>\n",
       "      <td>King Saud University</td>\n",
       "      <td>NaN</td>\n",
       "      <td>qLDk39LMnWtSLbufhgNN</td>\n",
       "      <td>2020-02-27</td>\n",
       "      <td>2</td>\n",
       "    </tr>\n",
       "    <tr>\n",
       "      <th>209</th>\n",
       "      <td>Al Malqa</td>\n",
       "      <td>NaN</td>\n",
       "      <td>zI4A6Uzk7TB8NObz98jP</td>\n",
       "      <td>2020-03-01</td>\n",
       "      <td>1</td>\n",
       "    </tr>\n",
       "    <tr>\n",
       "      <th>210</th>\n",
       "      <td>As Suwaidi</td>\n",
       "      <td>NaN</td>\n",
       "      <td>zcLTicRPDYbnqHDrgjtj</td>\n",
       "      <td>2020-03-24</td>\n",
       "      <td>11</td>\n",
       "    </tr>\n",
       "  </tbody>\n",
       "</table>\n",
       "</div>"
      ],
      "text/plain": [
       "                     name      lon                                    id  \\\n",
       "206         Mountain View -122.084  fe362815-fe90-4132-a3ff-984e3311aef3   \n",
       "207               Al Aqiq      NaN  fec65963-d574-4c00-b234-2d4a31fe7af3   \n",
       "208  King Saud University      NaN                  qLDk39LMnWtSLbufhgNN   \n",
       "209              Al Malqa      NaN                  zI4A6Uzk7TB8NObz98jP   \n",
       "210            As Suwaidi      NaN                  zcLTicRPDYbnqHDrgjtj   \n",
       "\n",
       "           date  hour  \n",
       "206  2020-03-31     0  \n",
       "207  2020-03-28     2  \n",
       "208  2020-02-27     2  \n",
       "209  2020-03-01     1  \n",
       "210  2020-03-24    11  "
      ]
     },
     "execution_count": 65,
     "metadata": {},
     "output_type": "execute_result"
    }
   ],
   "source": [
    "loc_df.tail(5)"
   ]
  },
  {
   "cell_type": "code",
   "execution_count": 66,
   "metadata": {},
   "outputs": [],
   "source": [
    "#merge dataframe\n",
    "\n",
    "dfinal = pd.merge(left=df, \n",
    "                  right = loc_df,\n",
    "                  how = 'left',\n",
    "                  left_on=['hour','date'],\n",
    "                  right_on=['hour','date']).ffill()\n",
    "\n",
    "\n"
   ]
  },
  {
   "cell_type": "code",
   "execution_count": 67,
   "metadata": {},
   "outputs": [
    {
     "data": {
      "text/html": [
       "<div>\n",
       "<style scoped>\n",
       "    .dataframe tbody tr th:only-of-type {\n",
       "        vertical-align: middle;\n",
       "    }\n",
       "\n",
       "    .dataframe tbody tr th {\n",
       "        vertical-align: top;\n",
       "    }\n",
       "\n",
       "    .dataframe thead th {\n",
       "        text-align: right;\n",
       "    }\n",
       "</style>\n",
       "<table border=\"1\" class=\"dataframe\">\n",
       "  <thead>\n",
       "    <tr style=\"text-align: right;\">\n",
       "      <th></th>\n",
       "      <th>hour</th>\n",
       "      <th>value</th>\n",
       "      <th>sleepMin</th>\n",
       "      <th>TotalSteps</th>\n",
       "      <th>date</th>\n",
       "      <th>name</th>\n",
       "      <th>lon</th>\n",
       "      <th>id</th>\n",
       "    </tr>\n",
       "  </thead>\n",
       "  <tbody>\n",
       "    <tr>\n",
       "      <th>0</th>\n",
       "      <td>0</td>\n",
       "      <td>84.362069</td>\n",
       "      <td>315</td>\n",
       "      <td>4763</td>\n",
       "      <td>2020-03-26</td>\n",
       "      <td>NaN</td>\n",
       "      <td>NaN</td>\n",
       "      <td>NaN</td>\n",
       "    </tr>\n",
       "    <tr>\n",
       "      <th>1</th>\n",
       "      <td>1</td>\n",
       "      <td>92.250000</td>\n",
       "      <td>315</td>\n",
       "      <td>4763</td>\n",
       "      <td>2020-03-26</td>\n",
       "      <td>NaN</td>\n",
       "      <td>NaN</td>\n",
       "      <td>NaN</td>\n",
       "    </tr>\n",
       "    <tr>\n",
       "      <th>2</th>\n",
       "      <td>2</td>\n",
       "      <td>83.500000</td>\n",
       "      <td>315</td>\n",
       "      <td>4763</td>\n",
       "      <td>2020-03-26</td>\n",
       "      <td>NaN</td>\n",
       "      <td>NaN</td>\n",
       "      <td>NaN</td>\n",
       "    </tr>\n",
       "    <tr>\n",
       "      <th>3</th>\n",
       "      <td>3</td>\n",
       "      <td>80.283333</td>\n",
       "      <td>315</td>\n",
       "      <td>4763</td>\n",
       "      <td>2020-03-26</td>\n",
       "      <td>NaN</td>\n",
       "      <td>NaN</td>\n",
       "      <td>NaN</td>\n",
       "    </tr>\n",
       "    <tr>\n",
       "      <th>4</th>\n",
       "      <td>4</td>\n",
       "      <td>79.416667</td>\n",
       "      <td>315</td>\n",
       "      <td>4763</td>\n",
       "      <td>2020-03-26</td>\n",
       "      <td>NaN</td>\n",
       "      <td>NaN</td>\n",
       "      <td>NaN</td>\n",
       "    </tr>\n",
       "    <tr>\n",
       "      <th>...</th>\n",
       "      <td>...</td>\n",
       "      <td>...</td>\n",
       "      <td>...</td>\n",
       "      <td>...</td>\n",
       "      <td>...</td>\n",
       "      <td>...</td>\n",
       "      <td>...</td>\n",
       "      <td>...</td>\n",
       "    </tr>\n",
       "    <tr>\n",
       "      <th>169</th>\n",
       "      <td>17</td>\n",
       "      <td>89.116667</td>\n",
       "      <td>623</td>\n",
       "      <td>1468</td>\n",
       "      <td>2020-03-30</td>\n",
       "      <td>Al Qirawan District</td>\n",
       "      <td>NaN</td>\n",
       "      <td>bd1ed9dc-f98b-44b8-b201-ea3f49de92b5</td>\n",
       "    </tr>\n",
       "    <tr>\n",
       "      <th>170</th>\n",
       "      <td>17</td>\n",
       "      <td>89.116667</td>\n",
       "      <td>623</td>\n",
       "      <td>1468</td>\n",
       "      <td>2020-03-30</td>\n",
       "      <td>Al Qirawan District</td>\n",
       "      <td>NaN</td>\n",
       "      <td>c168fb29-f25e-4143-9413-d65fa1e2cce8</td>\n",
       "    </tr>\n",
       "    <tr>\n",
       "      <th>171</th>\n",
       "      <td>17</td>\n",
       "      <td>89.116667</td>\n",
       "      <td>623</td>\n",
       "      <td>1468</td>\n",
       "      <td>2020-03-30</td>\n",
       "      <td>Al Qirawan District</td>\n",
       "      <td>NaN</td>\n",
       "      <td>c62c93ea-08b4-4d63-99ee-a2e555853495</td>\n",
       "    </tr>\n",
       "    <tr>\n",
       "      <th>172</th>\n",
       "      <td>17</td>\n",
       "      <td>89.116667</td>\n",
       "      <td>623</td>\n",
       "      <td>1468</td>\n",
       "      <td>2020-03-30</td>\n",
       "      <td>Al Qirawan District</td>\n",
       "      <td>NaN</td>\n",
       "      <td>e66873bc-bc51-421b-85ff-947a58365c1e</td>\n",
       "    </tr>\n",
       "    <tr>\n",
       "      <th>173</th>\n",
       "      <td>18</td>\n",
       "      <td>93.896552</td>\n",
       "      <td>623</td>\n",
       "      <td>1468</td>\n",
       "      <td>2020-03-30</td>\n",
       "      <td>Al Qirawan District</td>\n",
       "      <td>NaN</td>\n",
       "      <td>e66873bc-bc51-421b-85ff-947a58365c1e</td>\n",
       "    </tr>\n",
       "  </tbody>\n",
       "</table>\n",
       "<p>174 rows × 8 columns</p>\n",
       "</div>"
      ],
      "text/plain": [
       "     hour      value  sleepMin  TotalSteps        date                 name  \\\n",
       "0       0  84.362069       315        4763  2020-03-26                  NaN   \n",
       "1       1  92.250000       315        4763  2020-03-26                  NaN   \n",
       "2       2  83.500000       315        4763  2020-03-26                  NaN   \n",
       "3       3  80.283333       315        4763  2020-03-26                  NaN   \n",
       "4       4  79.416667       315        4763  2020-03-26                  NaN   \n",
       "..    ...        ...       ...         ...         ...                  ...   \n",
       "169    17  89.116667       623        1468  2020-03-30  Al Qirawan District   \n",
       "170    17  89.116667       623        1468  2020-03-30  Al Qirawan District   \n",
       "171    17  89.116667       623        1468  2020-03-30  Al Qirawan District   \n",
       "172    17  89.116667       623        1468  2020-03-30  Al Qirawan District   \n",
       "173    18  93.896552       623        1468  2020-03-30  Al Qirawan District   \n",
       "\n",
       "     lon                                    id  \n",
       "0    NaN                                   NaN  \n",
       "1    NaN                                   NaN  \n",
       "2    NaN                                   NaN  \n",
       "3    NaN                                   NaN  \n",
       "4    NaN                                   NaN  \n",
       "..   ...                                   ...  \n",
       "169  NaN  bd1ed9dc-f98b-44b8-b201-ea3f49de92b5  \n",
       "170  NaN  c168fb29-f25e-4143-9413-d65fa1e2cce8  \n",
       "171  NaN  c62c93ea-08b4-4d63-99ee-a2e555853495  \n",
       "172  NaN  e66873bc-bc51-421b-85ff-947a58365c1e  \n",
       "173  NaN  e66873bc-bc51-421b-85ff-947a58365c1e  \n",
       "\n",
       "[174 rows x 8 columns]"
      ]
     },
     "execution_count": 67,
     "metadata": {},
     "output_type": "execute_result"
    }
   ],
   "source": [
    "dfinal"
   ]
  },
  {
   "cell_type": "markdown",
   "metadata": {},
   "source": [
    "## Train dataset from the model"
   ]
  },
  {
   "cell_type": "code",
   "execution_count": 68,
   "metadata": {},
   "outputs": [],
   "source": [
    "#test model \n",
    "train_df = dfinal.rename(columns={'value': 'Heartrate'})\n",
    "#train_df.drop(['hour','date',], axis=1, inplace = True)"
   ]
  },
  {
   "cell_type": "code",
   "execution_count": 69,
   "metadata": {},
   "outputs": [],
   "source": [
    "Labeled_df = pd.DataFrame()\n",
    "Labeled_df = trainData(train_df)"
   ]
  },
  {
   "cell_type": "code",
   "execution_count": 70,
   "metadata": {},
   "outputs": [],
   "source": [
    "Labeled_df.drop(['lon'],axis=1, inplace = True)"
   ]
  },
  {
   "cell_type": "code",
   "execution_count": 71,
   "metadata": {},
   "outputs": [],
   "source": [
    "# Replace missing values because it doesn't exist\n",
    "Labeled_df['name'].fillna(\"Not given\", inplace=True)\n",
    "Labeled_df['id'].fillna(\"Not given\", inplace=True)"
   ]
  },
  {
   "cell_type": "code",
   "execution_count": 72,
   "metadata": {},
   "outputs": [
    {
     "data": {
      "text/html": [
       "<div>\n",
       "<style scoped>\n",
       "    .dataframe tbody tr th:only-of-type {\n",
       "        vertical-align: middle;\n",
       "    }\n",
       "\n",
       "    .dataframe tbody tr th {\n",
       "        vertical-align: top;\n",
       "    }\n",
       "\n",
       "    .dataframe thead th {\n",
       "        text-align: right;\n",
       "    }\n",
       "</style>\n",
       "<table border=\"1\" class=\"dataframe\">\n",
       "  <thead>\n",
       "    <tr style=\"text-align: right;\">\n",
       "      <th></th>\n",
       "      <th>hour</th>\n",
       "      <th>Heartrate</th>\n",
       "      <th>sleepMin</th>\n",
       "      <th>TotalSteps</th>\n",
       "      <th>date</th>\n",
       "      <th>name</th>\n",
       "      <th>id</th>\n",
       "      <th>Label</th>\n",
       "    </tr>\n",
       "  </thead>\n",
       "  <tbody>\n",
       "    <tr>\n",
       "      <th>169</th>\n",
       "      <td>17</td>\n",
       "      <td>89.116667</td>\n",
       "      <td>623</td>\n",
       "      <td>1468</td>\n",
       "      <td>2020-03-30</td>\n",
       "      <td>Al Qirawan District</td>\n",
       "      <td>bd1ed9dc-f98b-44b8-b201-ea3f49de92b5</td>\n",
       "      <td>Meduim</td>\n",
       "    </tr>\n",
       "    <tr>\n",
       "      <th>170</th>\n",
       "      <td>17</td>\n",
       "      <td>89.116667</td>\n",
       "      <td>623</td>\n",
       "      <td>1468</td>\n",
       "      <td>2020-03-30</td>\n",
       "      <td>Al Qirawan District</td>\n",
       "      <td>c168fb29-f25e-4143-9413-d65fa1e2cce8</td>\n",
       "      <td>Meduim</td>\n",
       "    </tr>\n",
       "    <tr>\n",
       "      <th>171</th>\n",
       "      <td>17</td>\n",
       "      <td>89.116667</td>\n",
       "      <td>623</td>\n",
       "      <td>1468</td>\n",
       "      <td>2020-03-30</td>\n",
       "      <td>Al Qirawan District</td>\n",
       "      <td>c62c93ea-08b4-4d63-99ee-a2e555853495</td>\n",
       "      <td>Meduim</td>\n",
       "    </tr>\n",
       "    <tr>\n",
       "      <th>172</th>\n",
       "      <td>17</td>\n",
       "      <td>89.116667</td>\n",
       "      <td>623</td>\n",
       "      <td>1468</td>\n",
       "      <td>2020-03-30</td>\n",
       "      <td>Al Qirawan District</td>\n",
       "      <td>e66873bc-bc51-421b-85ff-947a58365c1e</td>\n",
       "      <td>Meduim</td>\n",
       "    </tr>\n",
       "    <tr>\n",
       "      <th>173</th>\n",
       "      <td>18</td>\n",
       "      <td>93.896552</td>\n",
       "      <td>623</td>\n",
       "      <td>1468</td>\n",
       "      <td>2020-03-30</td>\n",
       "      <td>Al Qirawan District</td>\n",
       "      <td>e66873bc-bc51-421b-85ff-947a58365c1e</td>\n",
       "      <td>Meduim</td>\n",
       "    </tr>\n",
       "  </tbody>\n",
       "</table>\n",
       "</div>"
      ],
      "text/plain": [
       "     hour  Heartrate  sleepMin  TotalSteps        date                 name  \\\n",
       "169    17  89.116667       623        1468  2020-03-30  Al Qirawan District   \n",
       "170    17  89.116667       623        1468  2020-03-30  Al Qirawan District   \n",
       "171    17  89.116667       623        1468  2020-03-30  Al Qirawan District   \n",
       "172    17  89.116667       623        1468  2020-03-30  Al Qirawan District   \n",
       "173    18  93.896552       623        1468  2020-03-30  Al Qirawan District   \n",
       "\n",
       "                                       id   Label  \n",
       "169  bd1ed9dc-f98b-44b8-b201-ea3f49de92b5  Meduim  \n",
       "170  c168fb29-f25e-4143-9413-d65fa1e2cce8  Meduim  \n",
       "171  c62c93ea-08b4-4d63-99ee-a2e555853495  Meduim  \n",
       "172  e66873bc-bc51-421b-85ff-947a58365c1e  Meduim  \n",
       "173  e66873bc-bc51-421b-85ff-947a58365c1e  Meduim  "
      ]
     },
     "execution_count": 72,
     "metadata": {},
     "output_type": "execute_result"
    }
   ],
   "source": [
    "Labeled_df.tail(5)"
   ]
  },
  {
   "cell_type": "code",
   "execution_count": 73,
   "metadata": {},
   "outputs": [],
   "source": [
    "# Update firebase with the user anxiety level \n",
    "for row in Labeled_df.itertuples():\n",
    "    if row.id != 'Not given':\n",
    "        if row.Label == 'Low' or row.Label == 'LowA':\n",
    "            anxietyLevel = 1\n",
    "        elif row.Label == 'Meduim':\n",
    "            anxietyLevel = 2\n",
    "        else:\n",
    "            anxietyLevel = 3 \n",
    "        doc_ref = db.collection(u'PatientLocations').document(row.id)\n",
    "        doc_ref.update({\n",
    "                            u'anxietyLevel':anxietyLevel\n",
    "                     })\n",
    "            "
   ]
  },
  {
   "cell_type": "markdown",
   "metadata": {},
   "source": [
    "## Recomendations"
   ]
  },
  {
   "cell_type": "code",
   "execution_count": 74,
   "metadata": {},
   "outputs": [],
   "source": [
    "docDf = pd.DataFrame()\n",
    "doc_ref = db.collection(u'Patient').document(userID)\n",
    "doc = doc_ref.get().to_dict()\n",
    "docDf = docDf.append(pd.DataFrame(doc,index=[0]),ignore_index=True)"
   ]
  },
  {
   "cell_type": "code",
   "execution_count": 75,
   "metadata": {},
   "outputs": [
    {
     "name": "stdout",
     "output_type": "stream",
     "text": [
      "22\n"
     ]
    }
   ],
   "source": [
    "age1 = docDf['age'].values\n",
    "age = age1[0] \n",
    "compareAge = int(age)\n",
    "print(age)"
   ]
  },
  {
   "cell_type": "code",
   "execution_count": 76,
   "metadata": {},
   "outputs": [],
   "source": [
    "sleepMin = Labeled_df['sleepMin'].mean()\n",
    "totalSteps = Labeled_df['TotalSteps'].mean()\n",
    "\n",
    "sleepRecomendation = 'no sleep recomendation'\n",
    "stepsRecomendation = 'no steps recomendation'\n",
    "\n",
    "if sleepMin < 360:\n",
    "    sleepRecomendation = 'Serene recommends you to sleep about six to eight hours per day to get lower chance of anxiety'\n",
    "if compareAge < 20 and compareAge > 11:\n",
    "    if totalSteps < 6000:\n",
    "        stepsRecomendation = 'Serene recommends you to walk at least 6000 steps per day to get lower chance of anxiety'\n",
    "if compareAge < 66 and compareAge > 19:  \n",
    "     if totalSteps < 3000:\n",
    "        stepsRecomendation = 'Serene recommends you to walk at least 3000 steps per day to get lower chance of anxiety'\n",
    "\n",
    " "
   ]
  },
  {
   "cell_type": "code",
   "execution_count": 77,
   "metadata": {},
   "outputs": [
    {
     "data": {
      "text/plain": [
       "update_time {\n",
       "  seconds: 1585694898\n",
       "  nanos: 530282000\n",
       "}"
      ]
     },
     "execution_count": 77,
     "metadata": {},
     "output_type": "execute_result"
    }
   ],
   "source": [
    "# store recomendation in database\n",
    "ID = random.randint(1500000,10000000)\n",
    "doc_rec = db.collection(u'Recommendation').document(str(ID))\n",
    "doc_rec.set({\n",
    "    u'steps': totalSteps,\n",
    "    u'age':age,\n",
    "    u'patientID':userID,\n",
    "    u'reportID':reportId,\n",
    "    u'sleepMin':sleepMin,\n",
    "    u'sleepRecomendation': sleepRecomendation,\n",
    "    u'stepsRecomendation': stepsRecomendation\n",
    "})\n"
   ]
  },
  {
   "cell_type": "markdown",
   "metadata": {},
   "source": [
    "# Plot"
   ]
  },
  {
   "cell_type": "markdown",
   "metadata": {},
   "source": [
    "## HR"
   ]
  },
  {
   "cell_type": "code",
   "execution_count": 78,
   "metadata": {},
   "outputs": [
    {
     "data": {
      "image/png": "[encoded data removed]",
      "text/plain": [
       "<Figure size 432x288 with 1 Axes>"
      ]
     },
     "metadata": {
      "needs_background": "light"
     },
     "output_type": "display_data"
    },
    {
     "data": {
      "text/plain": [
       "<Figure size 432x288 with 0 Axes>"
      ]
     },
     "metadata": {},
     "output_type": "display_data"
    }
   ],
   "source": [
    "# plot HR\n",
    "fig1 = plt.gcf()\n",
    "plt.plot(df['hour'], df['value'])\n",
    "plt.xlabel('hour')\n",
    "plt.ylabel('bpm')\n",
    "plt.show()\n",
    "plt.draw()\n",
    "fig1.savefig('hr.png', dpi=100)\n",
    "# store HR to firebase\n",
    "imagePath = \"hr.png\"\n",
    "imageBlob = bucket.blob(userID+\"/DoctorReport/heartrate\")\n",
    "imageBlob.upload_from_filename(imagePath)\n",
    "os.remove(\"hr.png\")"
   ]
  },
  {
   "cell_type": "code",
   "execution_count": 81,
   "metadata": {},
   "outputs": [
    {
     "data": {
      "image/png": "[encoded data removed]",
      "text/plain": [
       "<Figure size 432x288 with 1 Axes>"
      ]
     },
     "metadata": {
      "needs_background": "light"
     },
     "output_type": "display_data"
    },
    {
     "data": {
      "text/plain": [
       "<Figure size 432x288 with 0 Axes>"
      ]
     },
     "metadata": {},
     "output_type": "display_data"
    }
   ],
   "source": [
    "# plot Sleep\n",
    "# max plot a 15 date only \n",
    "fig1 = plt.gcf()\n",
    "plt.plot(df['date'], df['sleepMin'])\n",
    "plt.xlabel('date')\n",
    "plt.ylabel('sleep')\n",
    "plt.tick_params(axis='x', rotation=70)\n",
    "plt.show()\n",
    "plt.draw()\n",
    "fig1.savefig('sleep.png', dpi=100)\n",
    "# store HR to firebase\n",
    "imagePath = \"sleep.png\"\n",
    "imageBlob = bucket.blob(userID+\"/DoctorReport/sleep\")\n",
    "imageBlob.upload_from_filename(imagePath)\n",
    "#os.remove(\"sleep.png\")"
   ]
  },
  {
   "cell_type": "code",
   "execution_count": 82,
   "metadata": {},
   "outputs": [
    {
     "data": {
      "image/png": "[encoded data removed]",
      "text/plain": [
       "<Figure size 432x288 with 1 Axes>"
      ]
     },
     "metadata": {
      "needs_background": "light"
     },
     "output_type": "display_data"
    },
    {
     "data": {
      "text/plain": [
       "<Figure size 432x288 with 0 Axes>"
      ]
     },
     "metadata": {},
     "output_type": "display_data"
    }
   ],
   "source": [
    "# Anxiety Level\n",
    "AnxietyFig = plt.gcf()\n",
    "plt.plot(Labeled_df['date'], Labeled_df['Label'])\n",
    "plt.xlabel('date',fontsize=15)\n",
    "plt.ylabel('Anxiety level',fontsize=15)\n",
    "plt.tick_params(axis='x', labelsize=15)\n",
    "plt.tick_params(axis='y', labelsize=15)\n",
    "plt.show()\n",
    "plt.draw()\n",
    "\n",
    "tempo =  df['City'].value_counts()\n",
    "# visualize the results in a better way!\n",
    "AnxietyFig, ax = plt.subplots()\n",
    "\n",
    "ax.tick_params(axis='x', labelsize=15)\n",
    "ax.tick_params(axis='y', labelsize=15)\n",
    "\n",
    "ax.set_xlabel('Date' , fontsize=15)\n",
    "ax.set_ylabel('Anxiety level', fontsize=15)\n",
    "ax.set_title('Anxiety level (Throughout week)', fontsize=30)\n",
    "\n",
    "tempo[:6].plot(ax=ax, kind='bar')"
   ]
  },
  {
   "cell_type": "code",
   "execution_count": null,
   "metadata": {},
   "outputs": [],
   "source": []
  }
 ],
 "metadata": {
  "kernelspec": {
   "display_name": "Python 3",
   "language": "python",
   "name": "python3"
  },
  "language_info": {
   "codemirror_mode": {
    "name": "ipython",
    "version": 3
   },
   "file_extension": ".py",
   "mimetype": "text/x-python",
   "name": "python",
   "nbconvert_exporter": "python",
   "pygments_lexer": "ipython3",
   "version": "3.7.7"
  }
 },
 "nbformat": 4,
 "nbformat_minor": 2
}
