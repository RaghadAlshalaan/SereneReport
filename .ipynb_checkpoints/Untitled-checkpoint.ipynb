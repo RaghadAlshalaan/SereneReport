{
 "cells": [
  {
   "cell_type": "code",
   "execution_count": 6,
   "metadata": {},
   "outputs": [],
   "source": [
    "from reportlab.pdfgen import canvas\n",
    "from reportlab.pdfbase.ttfonts import TTFont\n",
    "from reportlab.pdfbase import pdfmetrics\n",
    "from reportlab.lib import colors\n"
   ]
  },
  {
   "cell_type": "code",
   "execution_count": 2,
   "metadata": {},
   "outputs": [],
   "source": [
    "def drawMyRuler(pdf):\n",
    "    pdf.drawString(100,810, 'x100')\n",
    "    pdf.drawString(200,810, 'x200')\n",
    "    pdf.drawString(300,810, 'x300')\n",
    "    pdf.drawString(400,810, 'x400')\n",
    "    pdf.drawString(500,810, 'x500')\n",
    "\n",
    "    pdf.drawString(10,100, 'y100')\n",
    "    pdf.drawString(10,200, 'y200')\n",
    "    pdf.drawString(10,300, 'y300')\n",
    "    pdf.drawString(10,400, 'y400')\n",
    "    pdf.drawString(10,500, 'y500')\n",
    "    pdf.drawString(10,600, 'y600')\n",
    "    pdf.drawString(10,700, 'y700')\n",
    "    pdf.drawString(10,800, 'y800')    "
   ]
  },
  {
   "cell_type": "code",
   "execution_count": 3,
   "metadata": {},
   "outputs": [],
   "source": [
    "fileName = 'MyDoc.pdf'\n",
    "documentTitle = 'Document title!'\n",
    "title = 'Tasmanian devil'\n",
    "subTitle = 'The largest carnivorous marsupial'\n",
    "\n",
    "textLines = [\n",
    "'The Tasmanian devil (Sarcophilus harrisii) is',\n",
    "'a carnivorous marsupial of the family',\n",
    "'Dasyuridae.'\n",
    "]\n",
    "\n",
    "image = 'tasmanianDevil.jpg'"
   ]
  },
  {
   "cell_type": "code",
   "execution_count": 4,
   "metadata": {},
   "outputs": [],
   "source": [
    "pdf = canvas.Canvas(fileName)\n",
    "pdf.setTitle(documentTitle)\n",
    "\n",
    "\n",
    "\n",
    "drawMyRuler(pdf)\n"
   ]
  },
  {
   "cell_type": "code",
   "execution_count": 10,
   "metadata": {},
   "outputs": [
    {
     "data": {
      "text/plain": [
       "(330, 215)"
      ]
     },
     "execution_count": 10,
     "metadata": {},
     "output_type": "execute_result"
    }
   ],
   "source": [
    "pdfmetrics.registerFont(\n",
    "    TTFont('abc', 'SakBunderan.ttf')\n",
    ")\n",
    "pdf.setFont('abc', 36)\n",
    "pdf.drawCentredString(300, 770, title)\n",
    "\n",
    "pdf.setFillColorRGB(0, 0, 255)\n",
    "pdf.setFont(\"Courier-Bold\", 24)\n",
    "pdf.drawCentredString(290,720, subTitle)\n",
    "\n",
    "\n",
    "pdf.line(30, 710, 550, 710)\n",
    "\n",
    "\n",
    "\n",
    "text = pdf.beginText(40, 680)\n",
    "text.setFont(\"Courier\", 18)\n",
    "text.setFillColor(colors.red)\n",
    "for line in textLines:\n",
    "    text.textLine(line)\n",
    "\n",
    "pdf.drawText(text)\n",
    "\n",
    "\n",
    "pdf.drawInlineImage(image, 130, 400)\n",
    "\n"
   ]
  },
  {
   "cell_type": "code",
   "execution_count": 11,
   "metadata": {},
   "outputs": [],
   "source": [
    "pdf.save()"
   ]
  },
  {
   "cell_type": "code",
   "execution_count": null,
   "metadata": {},
   "outputs": [],
   "source": []
  }
 ],
 "metadata": {
  "kernelspec": {
   "display_name": "Python 3",
   "language": "python",
   "name": "python3"
  },
  "language_info": {
   "codemirror_mode": {
    "name": "ipython",
    "version": 3
   },
   "file_extension": ".py",
   "mimetype": "text/x-python",
   "name": "python",
   "nbconvert_exporter": "python",
   "pygments_lexer": "ipython3",
   "version": "3.7.7"
  }
 },
 "nbformat": 4,
 "nbformat_minor": 4
}
