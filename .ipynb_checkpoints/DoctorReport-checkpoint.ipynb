{
 "cells": [
  {
   "cell_type": "code",
   "execution_count": 14,
   "metadata": {},
   "outputs": [],
   "source": [
    "import datetime\n",
    "import pandas as pd\n",
    "import firebase_admin\n",
    "from firebase_admin import credentials\n",
    "from firebase_admin import firestore\n",
    "from firebase_admin import storage\n",
    "from datetime import date, timedelta\n",
    "import urllib.request, json \n",
    "import time\n",
    "%matplotlib inline\n",
    "from matplotlib import pyplot as plt\n",
    "import matplotlib.dates as mdates\n",
    "import os\n",
    "import csv"
   ]
  },
  {
   "cell_type": "code",
   "execution_count": 15,
   "metadata": {},
   "outputs": [
    {
     "ename": "ValueError",
     "evalue": "The default Firebase app already exists. This means you called initialize_app() more than once without providing an app name as the second argument. In most cases you only need to call initialize_app() once. But if you do want to initialize multiple apps, pass a second argument to initialize_app() to give each app a unique name.",
     "output_type": "error",
     "traceback": [
      "\u001b[0;31m---------------------------------------------------------------------------\u001b[0m",
      "\u001b[0;31mValueError\u001b[0m                                Traceback (most recent call last)",
      "\u001b[0;32m<ipython-input-15-89d47431da87>\u001b[0m in \u001b[0;36m<module>\u001b[0;34m\u001b[0m\n\u001b[1;32m      2\u001b[0m app = firebase_admin.initialize_app(cred ,  {\n\u001b[1;32m      3\u001b[0m     \u001b[0;34m'storageBucket'\u001b[0m\u001b[0;34m:\u001b[0m \u001b[0;34m'serene-2dfd6.appspot.com'\u001b[0m\u001b[0;34m,\u001b[0m\u001b[0;34m\u001b[0m\u001b[0;34m\u001b[0m\u001b[0m\n\u001b[0;32m----> 4\u001b[0;31m }, name='[DEFAULT]')\n\u001b[0m\u001b[1;32m      5\u001b[0m \u001b[0mdb\u001b[0m \u001b[0;34m=\u001b[0m \u001b[0mfirestore\u001b[0m\u001b[0;34m.\u001b[0m\u001b[0mclient\u001b[0m\u001b[0;34m(\u001b[0m\u001b[0;34m)\u001b[0m\u001b[0;34m\u001b[0m\u001b[0;34m\u001b[0m\u001b[0m\n\u001b[1;32m      6\u001b[0m \u001b[0mbucket\u001b[0m \u001b[0;34m=\u001b[0m \u001b[0mstorage\u001b[0m\u001b[0;34m.\u001b[0m\u001b[0mbucket\u001b[0m\u001b[0;34m(\u001b[0m\u001b[0mapp\u001b[0m\u001b[0;34m=\u001b[0m\u001b[0mapp\u001b[0m\u001b[0;34m)\u001b[0m\u001b[0;34m\u001b[0m\u001b[0;34m\u001b[0m\u001b[0m\n",
      "\u001b[0;32m//anaconda3/lib/python3.7/site-packages/firebase_admin/__init__.py\u001b[0m in \u001b[0;36minitialize_app\u001b[0;34m(credential, options, name)\u001b[0m\n\u001b[1;32m     70\u001b[0m     \u001b[0;32mif\u001b[0m \u001b[0mname\u001b[0m \u001b[0;34m==\u001b[0m \u001b[0m_DEFAULT_APP_NAME\u001b[0m\u001b[0;34m:\u001b[0m\u001b[0;34m\u001b[0m\u001b[0;34m\u001b[0m\u001b[0m\n\u001b[1;32m     71\u001b[0m         raise ValueError((\n\u001b[0;32m---> 72\u001b[0;31m             \u001b[0;34m'The default Firebase app already exists. This means you called '\u001b[0m\u001b[0;34m\u001b[0m\u001b[0;34m\u001b[0m\u001b[0m\n\u001b[0m\u001b[1;32m     73\u001b[0m             \u001b[0;34m'initialize_app() more than once without providing an app name as '\u001b[0m\u001b[0;34m\u001b[0m\u001b[0;34m\u001b[0m\u001b[0m\n\u001b[1;32m     74\u001b[0m             \u001b[0;34m'the second argument. In most cases you only need to call '\u001b[0m\u001b[0;34m\u001b[0m\u001b[0;34m\u001b[0m\u001b[0m\n",
      "\u001b[0;31mValueError\u001b[0m: The default Firebase app already exists. This means you called initialize_app() more than once without providing an app name as the second argument. In most cases you only need to call initialize_app() once. But if you do want to initialize multiple apps, pass a second argument to initialize_app() to give each app a unique name."
     ]
    }
   ],
   "source": [
    "cred = credentials.Certificate(\"serene-2dfd6-firebase-adminsdk-gfc6o-a312184978.json\")\n",
    "app = firebase_admin.initialize_app(cred ,  {\n",
    "    'storageBucket': 'serene-2dfd6.appspot.com',\n",
    "}, name='[DEFAULT]')\n",
    "db = firestore.client()\n",
    "bucket = storage.bucket(app=app)\n",
    "today = datetime.datetime.now()\n",
    "timestamp = today.strftime(\"%Y-%m-%d\")"
   ]
  },
  {
   "cell_type": "code",
   "execution_count": 16,
   "metadata": {},
   "outputs": [],
   "source": [
    "#get a a list of date between start and end date \n",
    "userID = \"UqTdL3T7MteuQHBe1aNfSE9u0Na2\"\n",
    "duration = 2 # two weeks\n",
    "dates =[]\n",
    "for x in range(0 ,duration):\n",
    "    start_date = (date.today()-timedelta(days=duration-x)).isoformat()\n",
    "    dates.append(start_date)"
   ]
  },
  {
   "cell_type": "code",
   "execution_count": 5,
   "metadata": {},
   "outputs": [],
   "source": [
    "df= pd.DataFrame()\n",
    "# loop through the storage and get the data\n",
    "sleep =[]\n",
    "for x in range(0 ,len(dates)):\n",
    "    #Sleep\n",
    "    blob = bucket.blob(userID+\"/fitbitData/\"+dates[x]+\"/\"+dates[x]+\"-sleep.json\")\n",
    "    # download the file \n",
    "    u = blob.generate_signed_url(datetime.timedelta(seconds=300), method='GET')\n",
    "    with urllib.request.urlopen(u) as url:\n",
    "        data = json.loads(url.read().decode())\n",
    "        sleepMinutes = data['summary'][\"totalMinutesAsleep\"]\n",
    "        \n",
    "    #Activity (Steps)\n",
    "    blob = bucket.blob(userID+\"/fitbitData/\"+dates[x]+\"/\"+dates[x]+\"-activity.json\")\n",
    "    # download the file \n",
    "    u = blob.generate_signed_url(datetime.timedelta(seconds=300), method='GET')\n",
    "    with urllib.request.urlopen(u) as url:\n",
    "        data = json.loads(url.read().decode())\n",
    "        steps = data['summary'][\"steps\"]\n",
    "    \n",
    "    #heartrate\n",
    "    blob = bucket.blob(userID+\"/fitbitData/\"+dates[x]+\"/\"+dates[x]+\"-heartrate.json\")\n",
    "    u = blob.generate_signed_url(datetime.timedelta(seconds=300), method='GET')\n",
    "    with urllib.request.urlopen(u) as url:\n",
    "        data = json.loads(url.read().decode())\n",
    "        df_heartrate = pd.DataFrame(data['activities-heart-intraday']['dataset'])\n",
    "    df_heartrate.time.apply(str)\n",
    "    df_heartrate['time'] = pd.to_datetime(df_heartrate['time'])\n",
    "    df_heartrate['hour'] = df_heartrate['time'].apply(lambda time: time.strftime('%H'))\n",
    "    df_heartrate.drop(['time'],axis=1, inplace = True)\n",
    "    heart_rate = df_heartrate.groupby([\"hour\"], as_index=False).mean()\n",
    "    heart_rate['sleep'] = sleepMinutes\n",
    "    heart_rate['steps'] = steps\n",
    "    heart_rate['date'] = dates[x]\n",
    "    heart_rate = heart_rate.astype({\"hour\": int})  \n",
    "    \n",
    "    \n",
    "    # append dataframe\n",
    "    df = df.append(heart_rate, ignore_index = True)"
   ]
  },
  {
   "cell_type": "markdown",
   "metadata": {},
   "source": [
    "# 1. Patient info"
   ]
  },
  {
   "cell_type": "code",
   "execution_count": 8,
   "metadata": {},
   "outputs": [],
   "source": [
    "# get patient info\n",
    "patient = db.collection(u'Patient').document(userID) \n",
    "doc = patient.get()\n",
    "d = doc.to_dict()\n",
    "name = d['name']\n",
    "age = d['age']\n",
    "employee_status = d['employmentStatus']\n",
    "marital_status = d['maritalStatus']\n",
    "income = d['monthlyIncome']# need to be analyzed \n",
    "diseases = d['chronicDiseases']\n",
    "smoker = d['smokeCigarettes'] \n",
    "GAD_score = d['GAD-7ScaleScore']"
   ]
  },
  {
   "cell_type": "code",
   "execution_count": null,
   "metadata": {},
   "outputs": [],
   "source": [
    "\n",
    "    "
   ]
  },
  {
   "cell_type": "markdown",
   "metadata": {},
   "source": [
    "# 2. Patient Improvement (based on last two weeks)"
   ]
  },
  {
   "cell_type": "code",
   "execution_count": null,
   "metadata": {},
   "outputs": [],
   "source": [
    "# How to calculate the improvement "
   ]
  },
  {
   "cell_type": "markdown",
   "metadata": {},
   "source": [
    "# 3. HR"
   ]
  },
  {
   "cell_type": "code",
   "execution_count": 19,
   "metadata": {},
   "outputs": [],
   "source": [
    "def plot_hr():\n",
    "    fig1 = plt.gcf()\n",
    "    plt.plot(df['hour'], df['value'])\n",
    "    plt.xlabel('hour')\n",
    "    plt.ylabel('bpm')\n",
    "    plt.show()\n",
    "    plt.draw()\n",
    "    fig1.savefig('hr.png', dpi=200)\n",
    "    # store HR to firebase\n",
    "    imagePath = \"hr.png\"\n",
    "    imageBlob = bucket.blob(userID+\"/DoctorReport/\"+timestamp+\"heartrate\")\n",
    "    imageBlob.upload_from_filename(imagePath)\n",
    "    os.remove(\"hr.png\")"
   ]
  },
  {
   "cell_type": "markdown",
   "metadata": {},
   "source": [
    "# 4. Steps"
   ]
  },
  {
   "cell_type": "code",
   "execution_count": 21,
   "metadata": {},
   "outputs": [],
   "source": [
    "def plot_steps():    \n",
    "    fig1 = plt.gcf()\n",
    "    plt.plot(df['date'], df['steps'])\n",
    "    plt.xlabel('date')\n",
    "    plt.ylabel('number of steps')\n",
    "    plt.show()\n",
    "    plt.draw()\n",
    "    fig1.savefig('steps.png', dpi=100)\n",
    "    # store HR to firebase\n",
    "    imagePath = \"steps.png\"\n",
    "    imageBlob = bucket.blob(userID+\"/DoctorReport/\"+timestamp+\"steps\")\n",
    "    imageBlob.upload_from_filename(imagePath)\n",
    "    os.remove(\"steps.png\")"
   ]
  },
  {
   "cell_type": "markdown",
   "metadata": {},
   "source": [
    "# 5. Sleep"
   ]
  },
  {
   "cell_type": "code",
   "execution_count": 22,
   "metadata": {},
   "outputs": [],
   "source": [
    "def plot_sleep():     \n",
    "    fig1 = plt.gcf()\n",
    "    plt.plot(df['date'], df['sleep'])\n",
    "    plt.xlabel('date')\n",
    "    plt.ylabel('sleeping minutes')\n",
    "    plt.show()\n",
    "    plt.draw()\n",
    "    fig1.savefig('sleep.png', dpi=100)\n",
    "    # store HR to firebase\n",
    "    imagePath = \"sleep.png\"\n",
    "    imageBlob = bucket.blob(userID+\"/DoctorReport/\"+timestamp+\"sleep\")\n",
    "    imageBlob.upload_from_filename(imagePath)\n",
    "    os.remove(\"sleep.png\")"
   ]
  },
  {
   "cell_type": "code",
   "execution_count": null,
   "metadata": {},
   "outputs": [],
   "source": [
    "# validate the input date \n",
    "if a >b:\n",
    "    plot_sleep()\n",
    "else \n",
    "sleep_error_msg = 'no sleeping data'\n",
    "\n",
    "\n",
    "if a >b:\n",
    "    plot_steps()\n",
    "else \n",
    "steps_error_msg = 'no steps data'\n",
    "\n",
    "if a >b:\n",
    "    plot_hr()\n",
    "else \n",
    "heartrate_error_msg = 'no heartrate data'\n"
   ]
  },
  {
   "cell_type": "markdown",
   "metadata": {},
   "source": [
    "# 6. Location"
   ]
  },
  {
   "cell_type": "code",
   "execution_count": null,
   "metadata": {},
   "outputs": [],
   "source": []
  }
 ],
 "metadata": {
  "kernelspec": {
   "display_name": "Python 3",
   "language": "python",
   "name": "python3"
  },
  "language_info": {
   "codemirror_mode": {
    "name": "ipython",
    "version": 3
   },
   "file_extension": ".py",
   "mimetype": "text/x-python",
   "name": "python",
   "nbconvert_exporter": "python",
   "pygments_lexer": "ipython3",
   "version": "3.7.3"
  }
 },
 "nbformat": 4,
 "nbformat_minor": 2
}
