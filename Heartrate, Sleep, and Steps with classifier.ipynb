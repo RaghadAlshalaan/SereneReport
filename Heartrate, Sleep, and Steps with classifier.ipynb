{
 "cells": [
  {
   "cell_type": "markdown",
   "metadata": {},
   "source": [
    "# K-means clustering with Heratrate, Steps, and SleepMin factors"
   ]
  },
  {
   "cell_type": "markdown",
   "metadata": {},
   "source": [
    "### Steps to set up graphviz for decision tree classification\n",
    "1. Download and Install graphviz for windows at https://graphviz.gitlab.io/_pages/Download/Download_windows.html\n",
    "2. Install the libraries\n",
    "    - conda install -c anaconda graphviz\n",
    "    - conda install -c anaconda pydotplus\n",
    "3. Add to path in system Variables\n",
    "    - type \"Edit the system environment variables\"\n",
    "    - In Advanced tab go to Environment Variables\n",
    "    - In System variables edit the Path and add _C:\\Program Files (x86)\\Graphviz2.38\\bin_ or location of the bin where you previously installed grahviz"
   ]
  },
  {
   "cell_type": "code",
   "execution_count": 4,
   "metadata": {},
   "outputs": [
    {
     "name": "stderr",
     "output_type": "stream",
     "text": [
      "ERROR:root:Internal Python error in the inspect module.\n",
      "Below is the traceback from this internal error.\n",
      "\n"
     ]
    },
    {
     "name": "stdout",
     "output_type": "stream",
     "text": [
      "Traceback (most recent call last):\n",
      "  File \"//anaconda3/lib/python3.7/site-packages/IPython/core/interactiveshell.py\", line 3325, in run_code\n",
      "    exec(code_obj, self.user_global_ns, self.user_ns)\n",
      "  File \"<ipython-input-4-6f5a3c7e9e0a>\", line 5, in <module>\n",
      "    from sklearn.datasets.samples_generator import make_blobs\n",
      "  File \"//anaconda3/lib/python3.7/site-packages/sklearn/datasets/__init__.py\", line 22, in <module>\n",
      "    from .twenty_newsgroups import fetch_20newsgroups\n",
      "  File \"//anaconda3/lib/python3.7/site-packages/sklearn/datasets/twenty_newsgroups.py\", line 44, in <module>\n",
      "    from ..feature_extraction.text import CountVectorizer\n",
      "  File \"//anaconda3/lib/python3.7/site-packages/sklearn/feature_extraction/__init__.py\", line 10, in <module>\n",
      "    from . import text\n",
      "  File \"//anaconda3/lib/python3.7/site-packages/sklearn/feature_extraction/text.py\", line 28, in <module>\n",
      "    from ..preprocessing import normalize\n",
      "  File \"//anaconda3/lib/python3.7/site-packages/sklearn/preprocessing/__init__.py\", line 6, in <module>\n",
      "    from ._function_transformer import FunctionTransformer\n",
      "  File \"//anaconda3/lib/python3.7/site-packages/sklearn/preprocessing/_function_transformer.py\", line 5, in <module>\n",
      "    from ..utils.testing import assert_allclose_dense_sparse\n",
      "  File \"//anaconda3/lib/python3.7/site-packages/sklearn/utils/testing.py\", line 718, in <module>\n",
      "    import pytest\n",
      "  File \"//anaconda3/lib/python3.7/site-packages/pytest.py\", line 7, in <module>\n",
      "    from _pytest.config import cmdline\n",
      "  File \"//anaconda3/lib/python3.7/site-packages/_pytest/config/__init__.py\", line 21, in <module>\n",
      "    import _pytest.hookspec  # the extension point definitions\n",
      "  File \"//anaconda3/lib/python3.7/site-packages/_pytest/hookspec.py\", line 578, in <module>\n",
      "    @hookspec(historic=True, warn_on_impl=PYTEST_LOGWARNING)\n",
      "TypeError: __call__() got an unexpected keyword argument 'warn_on_impl'\n",
      "\n",
      "During handling of the above exception, another exception occurred:\n",
      "\n",
      "Traceback (most recent call last):\n",
      "  File \"//anaconda3/lib/python3.7/site-packages/IPython/core/interactiveshell.py\", line 2039, in showtraceback\n",
      "    stb = value._render_traceback_()\n",
      "AttributeError: 'TypeError' object has no attribute '_render_traceback_'\n",
      "\n",
      "During handling of the above exception, another exception occurred:\n",
      "\n",
      "Traceback (most recent call last):\n",
      "  File \"//anaconda3/lib/python3.7/site-packages/IPython/core/ultratb.py\", line 1101, in get_records\n",
      "    return _fixed_getinnerframes(etb, number_of_lines_of_context, tb_offset)\n",
      "  File \"//anaconda3/lib/python3.7/site-packages/IPython/core/ultratb.py\", line 319, in wrapped\n",
      "    return f(*args, **kwargs)\n",
      "  File \"//anaconda3/lib/python3.7/site-packages/IPython/core/ultratb.py\", line 353, in _fixed_getinnerframes\n",
      "    records = fix_frame_records_filenames(inspect.getinnerframes(etb, context))\n",
      "  File \"//anaconda3/lib/python3.7/inspect.py\", line 1502, in getinnerframes\n",
      "    frameinfo = (tb.tb_frame,) + getframeinfo(tb, context)\n",
      "  File \"//anaconda3/lib/python3.7/inspect.py\", line 1460, in getframeinfo\n",
      "    filename = getsourcefile(frame) or getfile(frame)\n",
      "  File \"//anaconda3/lib/python3.7/inspect.py\", line 696, in getsourcefile\n",
      "    if getattr(getmodule(object, filename), '__loader__', None) is not None:\n",
      "  File \"//anaconda3/lib/python3.7/inspect.py\", line 733, in getmodule\n",
      "    if ismodule(module) and hasattr(module, '__file__'):\n",
      "  File \"//anaconda3/lib/python3.7/site-packages/py/_vendored_packages/apipkg.py\", line 195, in __getattribute__\n",
      "    return getattr(getmod(), name)\n",
      "  File \"//anaconda3/lib/python3.7/site-packages/py/_vendored_packages/apipkg.py\", line 179, in getmod\n",
      "    x = importobj(modpath, None)\n",
      "  File \"//anaconda3/lib/python3.7/site-packages/py/_vendored_packages/apipkg.py\", line 69, in importobj\n",
      "    module = __import__(modpath, None, None, ['__doc__'])\n",
      "  File \"//anaconda3/lib/python3.7/site-packages/pytest.py\", line 7, in <module>\n",
      "    from _pytest.config import cmdline\n",
      "  File \"//anaconda3/lib/python3.7/site-packages/_pytest/config/__init__.py\", line 21, in <module>\n",
      "    import _pytest.hookspec  # the extension point definitions\n",
      "  File \"//anaconda3/lib/python3.7/site-packages/_pytest/hookspec.py\", line 578, in <module>\n",
      "    @hookspec(historic=True, warn_on_impl=PYTEST_LOGWARNING)\n",
      "TypeError: __call__() got an unexpected keyword argument 'warn_on_impl'\n"
     ]
    },
    {
     "ename": "TypeError",
     "evalue": "__call__() got an unexpected keyword argument 'warn_on_impl'",
     "output_type": "error",
     "traceback": [
      "\u001b[0;31m---------------------------------------------------------------------------\u001b[0m"
     ]
    }
   ],
   "source": [
    "import numpy as np\n",
    "import pandas as pd\n",
    "from matplotlib import pyplot as plt\n",
    "import seaborn as sns\n",
    "from sklearn.datasets.samples_generator import make_blobs\n",
    "from sklearn.cluster import KMeans\n",
    "from sklearn.tree import DecisionTreeClassifier\n",
    "from sklearn.model_selection import train_test_split\n",
    "from sklearn import metrics\n",
    "#For Descision Tree Visualization\n",
    "from sklearn.externals.six import StringIO  \n",
    "from IPython.display import Image  \n",
    "from sklearn.tree import export_graphviz \n",
    "import pydotplus"
   ]
  },
  {
   "cell_type": "code",
   "execution_count": 57,
   "metadata": {},
   "outputs": [
    {
     "data": {
      "text/html": [
       "<div>\n",
       "<style scoped>\n",
       "    .dataframe tbody tr th:only-of-type {\n",
       "        vertical-align: middle;\n",
       "    }\n",
       "\n",
       "    .dataframe tbody tr th {\n",
       "        vertical-align: top;\n",
       "    }\n",
       "\n",
       "    .dataframe thead th {\n",
       "        text-align: right;\n",
       "    }\n",
       "</style>\n",
       "<table border=\"1\" class=\"dataframe\">\n",
       "  <thead>\n",
       "    <tr style=\"text-align: right;\">\n",
       "      <th></th>\n",
       "      <th>Heartrate</th>\n",
       "      <th>TotalSteps</th>\n",
       "      <th>sleepMin</th>\n",
       "    </tr>\n",
       "  </thead>\n",
       "  <tbody>\n",
       "    <tr>\n",
       "      <td>0</td>\n",
       "      <td>64.863768</td>\n",
       "      <td>8328</td>\n",
       "      <td>528</td>\n",
       "    </tr>\n",
       "    <tr>\n",
       "      <td>1</td>\n",
       "      <td>61.058824</td>\n",
       "      <td>8328</td>\n",
       "      <td>528</td>\n",
       "    </tr>\n",
       "    <tr>\n",
       "      <td>2</td>\n",
       "      <td>59.720930</td>\n",
       "      <td>8328</td>\n",
       "      <td>528</td>\n",
       "    </tr>\n",
       "    <tr>\n",
       "      <td>3</td>\n",
       "      <td>58.935103</td>\n",
       "      <td>8328</td>\n",
       "      <td>528</td>\n",
       "    </tr>\n",
       "    <tr>\n",
       "      <td>4</td>\n",
       "      <td>58.590116</td>\n",
       "      <td>8328</td>\n",
       "      <td>528</td>\n",
       "    </tr>\n",
       "    <tr>\n",
       "      <td>...</td>\n",
       "      <td>...</td>\n",
       "      <td>...</td>\n",
       "      <td>...</td>\n",
       "    </tr>\n",
       "    <tr>\n",
       "      <td>1251</td>\n",
       "      <td>81.772257</td>\n",
       "      <td>20</td>\n",
       "      <td>492</td>\n",
       "    </tr>\n",
       "    <tr>\n",
       "      <td>1252</td>\n",
       "      <td>67.000000</td>\n",
       "      <td>20</td>\n",
       "      <td>492</td>\n",
       "    </tr>\n",
       "    <tr>\n",
       "      <td>1253</td>\n",
       "      <td>62.180556</td>\n",
       "      <td>20</td>\n",
       "      <td>492</td>\n",
       "    </tr>\n",
       "    <tr>\n",
       "      <td>1254</td>\n",
       "      <td>66.549072</td>\n",
       "      <td>20</td>\n",
       "      <td>492</td>\n",
       "    </tr>\n",
       "    <tr>\n",
       "      <td>1255</td>\n",
       "      <td>70.211055</td>\n",
       "      <td>20</td>\n",
       "      <td>492</td>\n",
       "    </tr>\n",
       "  </tbody>\n",
       "</table>\n",
       "<p>1256 rows × 3 columns</p>\n",
       "</div>"
      ],
      "text/plain": [
       "      Heartrate  TotalSteps  sleepMin\n",
       "0     64.863768        8328       528\n",
       "1     61.058824        8328       528\n",
       "2     59.720930        8328       528\n",
       "3     58.935103        8328       528\n",
       "4     58.590116        8328       528\n",
       "...         ...         ...       ...\n",
       "1251  81.772257          20       492\n",
       "1252  67.000000          20       492\n",
       "1253  62.180556          20       492\n",
       "1254  66.549072          20       492\n",
       "1255  70.211055          20       492\n",
       "\n",
       "[1256 rows x 3 columns]"
      ]
     },
     "execution_count": 57,
     "metadata": {},
     "output_type": "execute_result"
    }
   ],
   "source": [
    "df_j3 = pd.read_csv(\"finalData.csv\",index_col=0)\n",
    "df_j3[\"Activities\"]=df_j3[\"VeryActiveMinutes\"] +df_j3[\"FairlyActiveMinutes\"]+df_j3[\"LightlyActiveMinutes\"]\n",
    "df_j3.drop(['VeryActiveMinutes', 'FairlyActiveMinutes','LightlyActiveMinutes','Calories',\n",
    "            'Activities' , 'SedentaryMinutes' ], axis=1, inplace = True)\n",
    "df_j3"
   ]
  },
  {
   "cell_type": "code",
   "execution_count": 58,
   "metadata": {},
   "outputs": [
    {
     "data": {
      "text/plain": [
       "array([[-0.66172326, -0.23068574,  0.7685682 ],\n",
       "       [-0.94626452, -0.23068574,  0.7685682 ],\n",
       "       [-1.04631482, -0.23068574,  0.7685682 ],\n",
       "       ...,\n",
       "       [-0.86237919, -2.11812539,  0.47050676],\n",
       "       [-0.53569295, -2.11812539,  0.47050676],\n",
       "       [-0.26184259, -2.11812539,  0.47050676]])"
      ]
     },
     "execution_count": 58,
     "metadata": {},
     "output_type": "execute_result"
    }
   ],
   "source": [
    "# transforme data into standard scaler\n",
    "from sklearn.preprocessing import StandardScaler\n",
    "X = df_j3.values\n",
    "X = np.nan_to_num(X)\n",
    "Clus_dataSet = StandardScaler().fit_transform(X)\n",
    "Clus_dataSet"
   ]
  },
  {
   "cell_type": "code",
   "execution_count": 59,
   "metadata": {},
   "outputs": [],
   "source": [
    "#elbow method\n",
    "Sum_of_squared_distances = []\n",
    "K = range(1,12)\n",
    "for k in K:\n",
    "    km = KMeans(init = \"k-means++\", n_clusters = k)\n",
    "    km = km.fit(Clus_dataSet)\n",
    "    Sum_of_squared_distances.append(km.inertia_)"
   ]
  },
  {
   "cell_type": "code",
   "execution_count": 1,
   "metadata": {},
   "outputs": [
    {
     "ename": "NameError",
     "evalue": "name 'plt' is not defined",
     "output_type": "error",
     "traceback": [
      "\u001b[0;31m---------------------------------------------------------------------------\u001b[0m",
      "\u001b[0;31mNameError\u001b[0m                                 Traceback (most recent call last)",
      "\u001b[0;32m<ipython-input-1-ad65920acedc>\u001b[0m in \u001b[0;36m<module>\u001b[0;34m\u001b[0m\n\u001b[0;32m----> 1\u001b[0;31m \u001b[0mplt\u001b[0m\u001b[0;34m.\u001b[0m\u001b[0mplot\u001b[0m\u001b[0;34m(\u001b[0m\u001b[0mK\u001b[0m\u001b[0;34m,\u001b[0m \u001b[0mSum_of_squared_distances\u001b[0m\u001b[0;34m,\u001b[0m \u001b[0;34m'bx-'\u001b[0m\u001b[0;34m)\u001b[0m\u001b[0;34m\u001b[0m\u001b[0;34m\u001b[0m\u001b[0m\n\u001b[0m\u001b[1;32m      2\u001b[0m \u001b[0mplt\u001b[0m\u001b[0;34m.\u001b[0m\u001b[0mxlabel\u001b[0m\u001b[0;34m(\u001b[0m\u001b[0;34m'k'\u001b[0m\u001b[0;34m)\u001b[0m\u001b[0;34m\u001b[0m\u001b[0;34m\u001b[0m\u001b[0m\n\u001b[1;32m      3\u001b[0m \u001b[0mplt\u001b[0m\u001b[0;34m.\u001b[0m\u001b[0mylabel\u001b[0m\u001b[0;34m(\u001b[0m\u001b[0;34m'Sum_of_squared_distances'\u001b[0m\u001b[0;34m)\u001b[0m\u001b[0;34m\u001b[0m\u001b[0;34m\u001b[0m\u001b[0m\n\u001b[1;32m      4\u001b[0m \u001b[0mplt\u001b[0m\u001b[0;34m.\u001b[0m\u001b[0mtitle\u001b[0m\u001b[0;34m(\u001b[0m\u001b[0;34m'Elbow Method For Optimal k'\u001b[0m\u001b[0;34m)\u001b[0m\u001b[0;34m\u001b[0m\u001b[0;34m\u001b[0m\u001b[0m\n\u001b[1;32m      5\u001b[0m \u001b[0mplt\u001b[0m\u001b[0;34m.\u001b[0m\u001b[0mautoscale\u001b[0m\u001b[0;34m(\u001b[0m\u001b[0menable\u001b[0m\u001b[0;34m=\u001b[0m\u001b[0;32mTrue\u001b[0m\u001b[0;34m,\u001b[0m \u001b[0maxis\u001b[0m\u001b[0;34m=\u001b[0m\u001b[0;34m'both'\u001b[0m\u001b[0;34m,\u001b[0m \u001b[0mtight\u001b[0m\u001b[0;34m=\u001b[0m\u001b[0;32mNone\u001b[0m\u001b[0;34m)\u001b[0m\u001b[0;34m\u001b[0m\u001b[0;34m\u001b[0m\u001b[0m\n",
      "\u001b[0;31mNameError\u001b[0m: name 'plt' is not defined"
     ]
    }
   ],
   "source": [
    "plt.plot(K, Sum_of_squared_distances, 'bx-')\n",
    "plt.xlabel('k')\n",
    "plt.ylabel('Sum_of_squared_distances')\n",
    "plt.title('Elbow Method For Optimal k')\n",
    "plt.show()"
   ]
  },
  {
   "cell_type": "markdown",
   "metadata": {},
   "source": [
    "elbow method showed that the optimal k would be 4"
   ]
  },
  {
   "cell_type": "code",
   "execution_count": 78,
   "metadata": {},
   "outputs": [
    {
     "name": "stdout",
     "output_type": "stream",
     "text": [
      "[0 0 0 ... 2 2 2]\n"
     ]
    }
   ],
   "source": [
    "clusterNum = 4\n",
    "k_means = KMeans(init = \"k-means++\", n_clusters = clusterNum)\n",
    "k_means.fit(Clus_dataSet)\n",
    "labels = k_means.labels_\n",
    "print(labels)"
   ]
  },
  {
   "cell_type": "code",
   "execution_count": 83,
   "metadata": {},
   "outputs": [
    {
     "data": {
      "text/html": [
       "<div>\n",
       "<style scoped>\n",
       "    .dataframe tbody tr th:only-of-type {\n",
       "        vertical-align: middle;\n",
       "    }\n",
       "\n",
       "    .dataframe tbody tr th {\n",
       "        vertical-align: top;\n",
       "    }\n",
       "\n",
       "    .dataframe thead th {\n",
       "        text-align: right;\n",
       "    }\n",
       "</style>\n",
       "<table border=\"1\" class=\"dataframe\">\n",
       "  <thead>\n",
       "    <tr style=\"text-align: right;\">\n",
       "      <th></th>\n",
       "      <th>Heartrate</th>\n",
       "      <th>TotalSteps</th>\n",
       "      <th>sleepMin</th>\n",
       "      <th>Label</th>\n",
       "    </tr>\n",
       "  </thead>\n",
       "  <tbody>\n",
       "    <tr>\n",
       "      <td>0</td>\n",
       "      <td>64.863768</td>\n",
       "      <td>8328</td>\n",
       "      <td>528</td>\n",
       "      <td>First</td>\n",
       "    </tr>\n",
       "    <tr>\n",
       "      <td>1</td>\n",
       "      <td>61.058824</td>\n",
       "      <td>8328</td>\n",
       "      <td>528</td>\n",
       "      <td>First</td>\n",
       "    </tr>\n",
       "    <tr>\n",
       "      <td>2</td>\n",
       "      <td>59.720930</td>\n",
       "      <td>8328</td>\n",
       "      <td>528</td>\n",
       "      <td>First</td>\n",
       "    </tr>\n",
       "    <tr>\n",
       "      <td>3</td>\n",
       "      <td>58.935103</td>\n",
       "      <td>8328</td>\n",
       "      <td>528</td>\n",
       "      <td>First</td>\n",
       "    </tr>\n",
       "    <tr>\n",
       "      <td>4</td>\n",
       "      <td>58.590116</td>\n",
       "      <td>8328</td>\n",
       "      <td>528</td>\n",
       "      <td>First</td>\n",
       "    </tr>\n",
       "  </tbody>\n",
       "</table>\n",
       "</div>"
      ],
      "text/plain": [
       "   Heartrate  TotalSteps  sleepMin  Label\n",
       "0  64.863768        8328       528  First\n",
       "1  61.058824        8328       528  First\n",
       "2  59.720930        8328       528  First\n",
       "3  58.935103        8328       528  First\n",
       "4  58.590116        8328       528  First"
      ]
     },
     "execution_count": 83,
     "metadata": {},
     "output_type": "execute_result"
    }
   ],
   "source": [
    "df_j3[\"Label\"] = labels\n",
    "df_j3[\"Label\"] = pd.Categorical(df_j3[\"Label\"], df_j3[\"Label\"].unique())\n",
    "df_j3[\"Label\"] = df_j3[\"Label\"].cat.rename_categories(['First', 'Second', 'Third', 'Fourth'])\n",
    "df_j3.head(5)"
   ]
  },
  {
   "cell_type": "code",
   "execution_count": 84,
   "metadata": {},
   "outputs": [],
   "source": [
    "# used to store the cluster data\n",
    "#df_j3.to_csv('clustered_data.csv')"
   ]
  },
  {
   "cell_type": "code",
   "execution_count": null,
   "metadata": {},
   "outputs": [],
   "source": [
    "from mpl_toolkits.mplot3d import Axes3D \n",
    "fig = plt.figure(1, figsize=(8, 6))\n",
    "plt.clf()\n",
    "ax = Axes3D(fig, rect=[0, 0, .95, 1], elev=38, azim=135)\n",
    "\n",
    "plt.cla()\n",
    "\n",
    "ax.set_xlabel('Heart Rate')\n",
    "ax.set_ylabel('Total Step')\n",
    "ax.set_zlabel('Sleep Min')\n",
    "\n",
    "ax.scatter(X[:, 0], X[:, 1], X[:, 2], c= labels.astype(np.float),alpha=1)"
   ]
  },
  {
   "cell_type": "code",
   "execution_count": 88,
   "metadata": {},
   "outputs": [],
   "source": [
    "first_cluster = df_j3.loc[df_j3['Label']==\"First\"]\n",
    "\n",
    "second_cluster = df_j3.loc[df_j3['Label']==\"Second\"]\n",
    "\n",
    "third_cluster = df_j3.loc[df_j3['Label']==\"Third\"]\n",
    "\n",
    "fourth_cluster = df_j3.loc[df_j3['Label']==\"Fourth\"]\n"
   ]
  },
  {
   "cell_type": "code",
   "execution_count": 89,
   "metadata": {},
   "outputs": [
    {
     "data": {
      "text/html": [
       "<div>\n",
       "<style scoped>\n",
       "    .dataframe tbody tr th:only-of-type {\n",
       "        vertical-align: middle;\n",
       "    }\n",
       "\n",
       "    .dataframe tbody tr th {\n",
       "        vertical-align: top;\n",
       "    }\n",
       "\n",
       "    .dataframe thead th {\n",
       "        text-align: right;\n",
       "    }\n",
       "</style>\n",
       "<table border=\"1\" class=\"dataframe\">\n",
       "  <thead>\n",
       "    <tr style=\"text-align: right;\">\n",
       "      <th></th>\n",
       "      <th>Heartrate</th>\n",
       "      <th>TotalSteps</th>\n",
       "      <th>sleepMin</th>\n",
       "    </tr>\n",
       "  </thead>\n",
       "  <tbody>\n",
       "    <tr>\n",
       "      <td>count</td>\n",
       "      <td>578.000000</td>\n",
       "      <td>578.000000</td>\n",
       "      <td>578.000000</td>\n",
       "    </tr>\n",
       "    <tr>\n",
       "      <td>mean</td>\n",
       "      <td>66.579713</td>\n",
       "      <td>11433.103806</td>\n",
       "      <td>445.536332</td>\n",
       "    </tr>\n",
       "    <tr>\n",
       "      <td>std</td>\n",
       "      <td>7.200612</td>\n",
       "      <td>2379.047537</td>\n",
       "      <td>61.557116</td>\n",
       "    </tr>\n",
       "    <tr>\n",
       "      <td>min</td>\n",
       "      <td>43.750799</td>\n",
       "      <td>7401.000000</td>\n",
       "      <td>256.000000</td>\n",
       "    </tr>\n",
       "    <tr>\n",
       "      <td>25%</td>\n",
       "      <td>62.117952</td>\n",
       "      <td>10001.000000</td>\n",
       "      <td>405.000000</td>\n",
       "    </tr>\n",
       "    <tr>\n",
       "      <td>50%</td>\n",
       "      <td>67.116053</td>\n",
       "      <td>11080.000000</td>\n",
       "      <td>445.000000</td>\n",
       "    </tr>\n",
       "    <tr>\n",
       "      <td>75%</td>\n",
       "      <td>72.202944</td>\n",
       "      <td>12409.000000</td>\n",
       "      <td>480.000000</td>\n",
       "    </tr>\n",
       "    <tr>\n",
       "      <td>max</td>\n",
       "      <td>79.189266</td>\n",
       "      <td>19658.000000</td>\n",
       "      <td>562.000000</td>\n",
       "    </tr>\n",
       "  </tbody>\n",
       "</table>\n",
       "</div>"
      ],
      "text/plain": [
       "        Heartrate    TotalSteps    sleepMin\n",
       "count  578.000000    578.000000  578.000000\n",
       "mean    66.579713  11433.103806  445.536332\n",
       "std      7.200612   2379.047537   61.557116\n",
       "min     43.750799   7401.000000  256.000000\n",
       "25%     62.117952  10001.000000  405.000000\n",
       "50%     67.116053  11080.000000  445.000000\n",
       "75%     72.202944  12409.000000  480.000000\n",
       "max     79.189266  19658.000000  562.000000"
      ]
     },
     "execution_count": 89,
     "metadata": {},
     "output_type": "execute_result"
    }
   ],
   "source": [
    "first_cluster.describe()"
   ]
  },
  {
   "cell_type": "markdown",
   "metadata": {},
   "source": [
    "#### From the first cluster we can see that the heartrate is normal, the steps are very good, and the sleeping minures are normal. Therefore, we can say that the chance that the user might have anxiety is [Low]."
   ]
  },
  {
   "cell_type": "code",
   "execution_count": 90,
   "metadata": {},
   "outputs": [
    {
     "data": {
      "text/html": [
       "<div>\n",
       "<style scoped>\n",
       "    .dataframe tbody tr th:only-of-type {\n",
       "        vertical-align: middle;\n",
       "    }\n",
       "\n",
       "    .dataframe tbody tr th {\n",
       "        vertical-align: top;\n",
       "    }\n",
       "\n",
       "    .dataframe thead th {\n",
       "        text-align: right;\n",
       "    }\n",
       "</style>\n",
       "<table border=\"1\" class=\"dataframe\">\n",
       "  <thead>\n",
       "    <tr style=\"text-align: right;\">\n",
       "      <th></th>\n",
       "      <th>Heartrate</th>\n",
       "      <th>TotalSteps</th>\n",
       "      <th>sleepMin</th>\n",
       "    </tr>\n",
       "  </thead>\n",
       "  <tbody>\n",
       "    <tr>\n",
       "      <td>count</td>\n",
       "      <td>231.000000</td>\n",
       "      <td>231.000000</td>\n",
       "      <td>231.000000</td>\n",
       "    </tr>\n",
       "    <tr>\n",
       "      <td>mean</td>\n",
       "      <td>90.991107</td>\n",
       "      <td>11717.610390</td>\n",
       "      <td>466.632035</td>\n",
       "    </tr>\n",
       "    <tr>\n",
       "      <td>std</td>\n",
       "      <td>9.834354</td>\n",
       "      <td>3276.150985</td>\n",
       "      <td>57.017607</td>\n",
       "    </tr>\n",
       "    <tr>\n",
       "      <td>min</td>\n",
       "      <td>78.032828</td>\n",
       "      <td>2862.000000</td>\n",
       "      <td>352.000000</td>\n",
       "    </tr>\n",
       "    <tr>\n",
       "      <td>25%</td>\n",
       "      <td>83.655489</td>\n",
       "      <td>10114.000000</td>\n",
       "      <td>422.000000</td>\n",
       "    </tr>\n",
       "    <tr>\n",
       "      <td>50%</td>\n",
       "      <td>88.814672</td>\n",
       "      <td>11761.000000</td>\n",
       "      <td>458.000000</td>\n",
       "    </tr>\n",
       "    <tr>\n",
       "      <td>75%</td>\n",
       "      <td>95.782721</td>\n",
       "      <td>12480.000000</td>\n",
       "      <td>515.000000</td>\n",
       "    </tr>\n",
       "    <tr>\n",
       "      <td>max</td>\n",
       "      <td>127.679529</td>\n",
       "      <td>19658.000000</td>\n",
       "      <td>617.000000</td>\n",
       "    </tr>\n",
       "  </tbody>\n",
       "</table>\n",
       "</div>"
      ],
      "text/plain": [
       "        Heartrate    TotalSteps    sleepMin\n",
       "count  231.000000    231.000000  231.000000\n",
       "mean    90.991107  11717.610390  466.632035\n",
       "std      9.834354   3276.150985   57.017607\n",
       "min     78.032828   2862.000000  352.000000\n",
       "25%     83.655489  10114.000000  422.000000\n",
       "50%     88.814672  11761.000000  458.000000\n",
       "75%     95.782721  12480.000000  515.000000\n",
       "max    127.679529  19658.000000  617.000000"
      ]
     },
     "execution_count": 90,
     "metadata": {},
     "output_type": "execute_result"
    }
   ],
   "source": [
    "second_cluster.describe()"
   ]
  },
  {
   "cell_type": "markdown",
   "metadata": {},
   "source": [
    "#### From the second cluster we can see that 75% of the heartrate is high, the sleeping minutes are very low, but the steps are very good. Therefore, we can say that the chance that the user might have anxiety is [High]."
   ]
  },
  {
   "cell_type": "code",
   "execution_count": 91,
   "metadata": {},
   "outputs": [
    {
     "data": {
      "text/html": [
       "<div>\n",
       "<style scoped>\n",
       "    .dataframe tbody tr th:only-of-type {\n",
       "        vertical-align: middle;\n",
       "    }\n",
       "\n",
       "    .dataframe tbody tr th {\n",
       "        vertical-align: top;\n",
       "    }\n",
       "\n",
       "    .dataframe thead th {\n",
       "        text-align: right;\n",
       "    }\n",
       "</style>\n",
       "<table border=\"1\" class=\"dataframe\">\n",
       "  <thead>\n",
       "    <tr style=\"text-align: right;\">\n",
       "      <th></th>\n",
       "      <th>Heartrate</th>\n",
       "      <th>TotalSteps</th>\n",
       "      <th>sleepMin</th>\n",
       "    </tr>\n",
       "  </thead>\n",
       "  <tbody>\n",
       "    <tr>\n",
       "      <td>count</td>\n",
       "      <td>348.000000</td>\n",
       "      <td>348.000000</td>\n",
       "      <td>348.000000</td>\n",
       "    </tr>\n",
       "    <tr>\n",
       "      <td>mean</td>\n",
       "      <td>70.585305</td>\n",
       "      <td>3629.497126</td>\n",
       "      <td>491.428161</td>\n",
       "    </tr>\n",
       "    <tr>\n",
       "      <td>std</td>\n",
       "      <td>10.958806</td>\n",
       "      <td>2389.406322</td>\n",
       "      <td>85.865272</td>\n",
       "    </tr>\n",
       "    <tr>\n",
       "      <td>min</td>\n",
       "      <td>46.793750</td>\n",
       "      <td>8.000000</td>\n",
       "      <td>363.000000</td>\n",
       "    </tr>\n",
       "    <tr>\n",
       "      <td>25%</td>\n",
       "      <td>62.899650</td>\n",
       "      <td>1988.000000</td>\n",
       "      <td>450.000000</td>\n",
       "    </tr>\n",
       "    <tr>\n",
       "      <td>50%</td>\n",
       "      <td>70.074113</td>\n",
       "      <td>3436.000000</td>\n",
       "      <td>468.000000</td>\n",
       "    </tr>\n",
       "    <tr>\n",
       "      <td>75%</td>\n",
       "      <td>77.774612</td>\n",
       "      <td>5893.000000</td>\n",
       "      <td>516.000000</td>\n",
       "    </tr>\n",
       "    <tr>\n",
       "      <td>max</td>\n",
       "      <td>101.370667</td>\n",
       "      <td>8328.000000</td>\n",
       "      <td>750.000000</td>\n",
       "    </tr>\n",
       "  </tbody>\n",
       "</table>\n",
       "</div>"
      ],
      "text/plain": [
       "        Heartrate   TotalSteps    sleepMin\n",
       "count  348.000000   348.000000  348.000000\n",
       "mean    70.585305  3629.497126  491.428161\n",
       "std     10.958806  2389.406322   85.865272\n",
       "min     46.793750     8.000000  363.000000\n",
       "25%     62.899650  1988.000000  450.000000\n",
       "50%     70.074113  3436.000000  468.000000\n",
       "75%     77.774612  5893.000000  516.000000\n",
       "max    101.370667  8328.000000  750.000000"
      ]
     },
     "execution_count": 91,
     "metadata": {},
     "output_type": "execute_result"
    }
   ],
   "source": [
    "third_cluster.describe()"
   ]
  },
  {
   "cell_type": "markdown",
   "metadata": {},
   "source": [
    "#### From the third cluster we can see that the heartrate is normal, the steps are very weak, and the sleeping minutes are normal. Therefore, we can say that the chance that the user might have anxiety is [Medium]."
   ]
  },
  {
   "cell_type": "code",
   "execution_count": 92,
   "metadata": {},
   "outputs": [
    {
     "data": {
      "text/html": [
       "<div>\n",
       "<style scoped>\n",
       "    .dataframe tbody tr th:only-of-type {\n",
       "        vertical-align: middle;\n",
       "    }\n",
       "\n",
       "    .dataframe tbody tr th {\n",
       "        vertical-align: top;\n",
       "    }\n",
       "\n",
       "    .dataframe thead th {\n",
       "        text-align: right;\n",
       "    }\n",
       "</style>\n",
       "<table border=\"1\" class=\"dataframe\">\n",
       "  <thead>\n",
       "    <tr style=\"text-align: right;\">\n",
       "      <th></th>\n",
       "      <th>Heartrate</th>\n",
       "      <th>TotalSteps</th>\n",
       "      <th>sleepMin</th>\n",
       "    </tr>\n",
       "  </thead>\n",
       "  <tbody>\n",
       "    <tr>\n",
       "      <td>count</td>\n",
       "      <td>99.000000</td>\n",
       "      <td>99.000000</td>\n",
       "      <td>99.000000</td>\n",
       "    </tr>\n",
       "    <tr>\n",
       "      <td>mean</td>\n",
       "      <td>86.031864</td>\n",
       "      <td>11688.525253</td>\n",
       "      <td>103.505051</td>\n",
       "    </tr>\n",
       "    <tr>\n",
       "      <td>std</td>\n",
       "      <td>11.934618</td>\n",
       "      <td>3009.225035</td>\n",
       "      <td>74.748609</td>\n",
       "    </tr>\n",
       "    <tr>\n",
       "      <td>min</td>\n",
       "      <td>62.240356</td>\n",
       "      <td>7476.000000</td>\n",
       "      <td>63.000000</td>\n",
       "    </tr>\n",
       "    <tr>\n",
       "      <td>25%</td>\n",
       "      <td>77.779223</td>\n",
       "      <td>9910.000000</td>\n",
       "      <td>65.000000</td>\n",
       "    </tr>\n",
       "    <tr>\n",
       "      <td>50%</td>\n",
       "      <td>84.526462</td>\n",
       "      <td>10976.000000</td>\n",
       "      <td>69.000000</td>\n",
       "    </tr>\n",
       "    <tr>\n",
       "      <td>75%</td>\n",
       "      <td>93.424594</td>\n",
       "      <td>14100.000000</td>\n",
       "      <td>72.000000</td>\n",
       "    </tr>\n",
       "    <tr>\n",
       "      <td>max</td>\n",
       "      <td>128.607407</td>\n",
       "      <td>16806.000000</td>\n",
       "      <td>256.000000</td>\n",
       "    </tr>\n",
       "  </tbody>\n",
       "</table>\n",
       "</div>"
      ],
      "text/plain": [
       "        Heartrate    TotalSteps    sleepMin\n",
       "count   99.000000     99.000000   99.000000\n",
       "mean    86.031864  11688.525253  103.505051\n",
       "std     11.934618   3009.225035   74.748609\n",
       "min     62.240356   7476.000000   63.000000\n",
       "25%     77.779223   9910.000000   65.000000\n",
       "50%     84.526462  10976.000000   69.000000\n",
       "75%     93.424594  14100.000000   72.000000\n",
       "max    128.607407  16806.000000  256.000000"
      ]
     },
     "execution_count": 92,
     "metadata": {},
     "output_type": "execute_result"
    }
   ],
   "source": [
    "fourth_cluster.describe()"
   ]
  },
  {
   "cell_type": "markdown",
   "metadata": {},
   "source": [
    "#### From the fourth cluster we can see that 75% of the heartrate is high, the steps are very good, and the sleeping minutes are normal. Therefore, we can say that the chance that the user might have anxiety is [Low]. Note: The user might be active, which explains the high heartrate."
   ]
  },
  {
   "cell_type": "markdown",
   "metadata": {},
   "source": [
    "# Step By Step Guide to Descision Tree Classifier"
   ]
  },
  {
   "cell_type": "markdown",
   "metadata": {},
   "source": [
    "Assigned X to feature varaiables"
   ]
  },
  {
   "cell_type": "code",
   "execution_count": 95,
   "metadata": {},
   "outputs": [
    {
     "data": {
      "text/html": [
       "<div>\n",
       "<style scoped>\n",
       "    .dataframe tbody tr th:only-of-type {\n",
       "        vertical-align: middle;\n",
       "    }\n",
       "\n",
       "    .dataframe tbody tr th {\n",
       "        vertical-align: top;\n",
       "    }\n",
       "\n",
       "    .dataframe thead th {\n",
       "        text-align: right;\n",
       "    }\n",
       "</style>\n",
       "<table border=\"1\" class=\"dataframe\">\n",
       "  <thead>\n",
       "    <tr style=\"text-align: right;\">\n",
       "      <th></th>\n",
       "      <th>Heartrate</th>\n",
       "      <th>TotalSteps</th>\n",
       "      <th>sleepMin</th>\n",
       "      <th>Label</th>\n",
       "    </tr>\n",
       "  </thead>\n",
       "  <tbody>\n",
       "    <tr>\n",
       "      <td>0</td>\n",
       "      <td>64.863768</td>\n",
       "      <td>8328</td>\n",
       "      <td>528</td>\n",
       "      <td>First</td>\n",
       "    </tr>\n",
       "    <tr>\n",
       "      <td>1</td>\n",
       "      <td>61.058824</td>\n",
       "      <td>8328</td>\n",
       "      <td>528</td>\n",
       "      <td>First</td>\n",
       "    </tr>\n",
       "    <tr>\n",
       "      <td>2</td>\n",
       "      <td>59.720930</td>\n",
       "      <td>8328</td>\n",
       "      <td>528</td>\n",
       "      <td>First</td>\n",
       "    </tr>\n",
       "    <tr>\n",
       "      <td>3</td>\n",
       "      <td>58.935103</td>\n",
       "      <td>8328</td>\n",
       "      <td>528</td>\n",
       "      <td>First</td>\n",
       "    </tr>\n",
       "    <tr>\n",
       "      <td>4</td>\n",
       "      <td>58.590116</td>\n",
       "      <td>8328</td>\n",
       "      <td>528</td>\n",
       "      <td>First</td>\n",
       "    </tr>\n",
       "  </tbody>\n",
       "</table>\n",
       "</div>"
      ],
      "text/plain": [
       "   Heartrate  TotalSteps  sleepMin  Label\n",
       "0  64.863768        8328       528  First\n",
       "1  61.058824        8328       528  First\n",
       "2  59.720930        8328       528  First\n",
       "3  58.935103        8328       528  First\n",
       "4  58.590116        8328       528  First"
      ]
     },
     "execution_count": 95,
     "metadata": {},
     "output_type": "execute_result"
    }
   ],
   "source": [
    "df_desc=pd.read_csv('clustered_data.csv',index_col=0)\n",
    "df_desc.head()"
   ]
  },
  {
   "cell_type": "code",
   "execution_count": 96,
   "metadata": {},
   "outputs": [
    {
     "data": {
      "text/plain": [
       "array([[  64.86376812, 8328.        ,  528.        ],\n",
       "       [  61.05882353, 8328.        ,  528.        ],\n",
       "       [  59.72093023, 8328.        ,  528.        ],\n",
       "       [  58.93510324, 8328.        ,  528.        ],\n",
       "       [  58.59011628, 8328.        ,  528.        ]])"
      ]
     },
     "execution_count": 96,
     "metadata": {},
     "output_type": "execute_result"
    }
   ],
   "source": [
    "X = df_desc[['Heartrate', 'TotalSteps' , 'sleepMin']].values\n",
    "X[0:5]"
   ]
  },
  {
   "cell_type": "markdown",
   "metadata": {},
   "source": [
    "Assigned y to target varaiable (Label)"
   ]
  },
  {
   "cell_type": "code",
   "execution_count": 97,
   "metadata": {},
   "outputs": [
    {
     "data": {
      "text/plain": [
       "0    First\n",
       "1    First\n",
       "2    First\n",
       "3    First\n",
       "4    First\n",
       "Name: Label, dtype: object"
      ]
     },
     "execution_count": 97,
     "metadata": {},
     "output_type": "execute_result"
    }
   ],
   "source": [
    "y = df[\"Label\"]\n",
    "y[0:5]"
   ]
  },
  {
   "cell_type": "markdown",
   "metadata": {},
   "source": [
    "### Splitting of Data\n",
    "Split the data into testing and training set and took 30% of data as testing and 70% for training the model"
   ]
  },
  {
   "cell_type": "code",
   "execution_count": 98,
   "metadata": {},
   "outputs": [],
   "source": [
    "X_trainset, X_testset, y_trainset, y_testset = train_test_split(X, y, test_size=0.3)"
   ]
  },
  {
   "cell_type": "code",
   "execution_count": 99,
   "metadata": {},
   "outputs": [
    {
     "name": "stdout",
     "output_type": "stream",
     "text": [
      "(879, 3)\n",
      "(879,)\n"
     ]
    }
   ],
   "source": [
    "print(np.shape(X_trainset))\n",
    "print(np.shape(y_trainset))"
   ]
  },
  {
   "cell_type": "code",
   "execution_count": 100,
   "metadata": {},
   "outputs": [
    {
     "name": "stdout",
     "output_type": "stream",
     "text": [
      "(377, 3)\n",
      "(377,)\n"
     ]
    }
   ],
   "source": [
    "print(np.shape(X_testset))\n",
    "print(np.shape(y_testset))"
   ]
  },
  {
   "cell_type": "markdown",
   "metadata": {},
   "source": [
    "Define the model, we can adjust the max_depth of node of decission tree, default value is set to None, it means our decission tree classifier would generate only pure node"
   ]
  },
  {
   "cell_type": "code",
   "execution_count": 101,
   "metadata": {},
   "outputs": [
    {
     "data": {
      "text/plain": [
       "DecisionTreeClassifier(class_weight=None, criterion='entropy', max_depth=None,\n",
       "                       max_features=None, max_leaf_nodes=None,\n",
       "                       min_impurity_decrease=0.0, min_impurity_split=None,\n",
       "                       min_samples_leaf=1, min_samples_split=2,\n",
       "                       min_weight_fraction_leaf=0.0, presort=False,\n",
       "                       random_state=None, splitter='best')"
      ]
     },
     "execution_count": 101,
     "metadata": {},
     "output_type": "execute_result"
    }
   ],
   "source": [
    "descTree = DecisionTreeClassifier(criterion=\"entropy\",max_depth=None)\n",
    "descTree"
   ]
  },
  {
   "cell_type": "markdown",
   "metadata": {},
   "source": [
    "fit the training model in the our descTree model and predict with test set features"
   ]
  },
  {
   "cell_type": "code",
   "execution_count": 110,
   "metadata": {},
   "outputs": [],
   "source": [
    "descTree.fit(X_trainset,y_trainset)\n",
    "predTree = descTree.predict(X_testset)"
   ]
  },
  {
   "cell_type": "markdown",
   "metadata": {},
   "source": [
    "#### Accuracy of Classifier"
   ]
  },
  {
   "cell_type": "code",
   "execution_count": 111,
   "metadata": {},
   "outputs": [
    {
     "name": "stdout",
     "output_type": "stream",
     "text": [
      "['First' 'First' 'First' 'Third' 'First']\n",
      "641     First\n",
      "76      First\n",
      "851     First\n",
      "335    Second\n",
      "899     First\n",
      "Name: Label, dtype: object\n"
     ]
    }
   ],
   "source": [
    "print (predTree [0:5])\n",
    "print (y_testset [0:5])"
   ]
  },
  {
   "cell_type": "code",
   "execution_count": 113,
   "metadata": {},
   "outputs": [
    {
     "name": "stdout",
     "output_type": "stream",
     "text": [
      "DecisionTrees's Accuracy:  0.9840848806366048\n"
     ]
    }
   ],
   "source": [
    "print(\"DecisionTrees's Accuracy: \", metrics.accuracy_score(y_testset, predTree))"
   ]
  },
  {
   "cell_type": "markdown",
   "metadata": {},
   "source": [
    "### Decision Tree Visualization"
   ]
  },
  {
   "cell_type": "code",
   "execution_count": null,
   "metadata": {},
   "outputs": [],
   "source": [
    "dot_data = StringIO()\n",
    "export_graphviz(descTree, out_file=dot_data,  \n",
    "                filled=True, rounded=True,\n",
    "                special_characters=True,\n",
    "                feature_names=df_desc.columns[0:3],  \n",
    "                class_names=df_desc.Label.unique().tolist())\n",
    "graph = pydotplus.graph_from_dot_data(dot_data.getvalue())  \n",
    "Image(graph.create_png())"
   ]
  },
  {
   "cell_type": "markdown",
   "metadata": {},
   "source": [
    "We can adjust the depth of decision tree(number of branches) by setting the _max_depth_ value in our model\n",
    "- $X_{0}$ is first feature Heart Rate\n",
    "- $X_{1}$ is second feature Total Steps\n",
    "- $X_{2}$ is thrid feature sleepMin"
   ]
  },
  {
   "cell_type": "markdown",
   "metadata": {},
   "source": [
    "## Classification for new data set"
   ]
  },
  {
   "cell_type": "code",
   "execution_count": 143,
   "metadata": {},
   "outputs": [
    {
     "name": "stdout",
     "output_type": "stream",
     "text": [
      "DecisionTrees's Accuracy:  0.9840848806366048\n"
     ]
    }
   ],
   "source": [
    "# Step 1\n",
    "df=pd.read_csv('clustered_data.csv',index_col=0)    # Load label data\n",
    "X_trainset, X_testset, y_trainset, y_testset = train_test_split(X, y, test_size=0.3)  #Splitting of Data into train and test set\n",
    "descTree = DecisionTreeClassifier(criterion=\"entropy\",max_depth=None) # Define Model\n",
    "descTree.fit(X_trainset,y_trainset) # train the model using training set\n",
    "predTree = descTree.predict(X_testset)  # test the model using testing set\n",
    "print(\"DecisionTrees's Accuracy: \", metrics.accuracy_score(y_testset, predTree))"
   ]
  },
  {
   "cell_type": "markdown",
   "metadata": {},
   "source": [
    "Now our model is trained using 3 parameters _Heartrate_ ,  _TotalSteps_ and  _sleepMin_. Make sure to load the data with same parameters"
   ]
  },
  {
   "cell_type": "code",
   "execution_count": null,
   "metadata": {},
   "outputs": [],
   "source": [
    "# Visualization\n",
    "dot_data = StringIO()\n",
    "export_graphviz(descTree, out_file=dot_data,  \n",
    "                filled=True, rounded=True,\n",
    "                special_characters=True,\n",
    "                feature_names=df.columns[0:3],  \n",
    "                class_names=df.Label.unique().tolist())\n",
    "graph = pydotplus.graph_from_dot_data(dot_data.getvalue())  \n",
    "Image(graph.create_png())"
   ]
  },
  {
   "cell_type": "code",
   "execution_count": 140,
   "metadata": {},
   "outputs": [],
   "source": [
    "# Labeling of new data set\n",
    "new_df=pd.read_csv('****.csv',index_col=0) # load the csv file\n",
    "X = new_df[['Heartrate', 'TotalSteps' , 'sleepMin']].values\n",
    "new_df[\"Label\"] = descTree.predict(X)\n",
    "new_df.head(10)"
   ]
  },
  {
   "cell_type": "code",
   "execution_count": null,
   "metadata": {},
   "outputs": [],
   "source": []
  }
 ],
 "metadata": {
  "kernelspec": {
   "display_name": "Python 3",
   "language": "python",
   "name": "python3"
  },
  "language_info": {
   "codemirror_mode": {
    "name": "ipython",
    "version": 3
   },
   "file_extension": ".py",
   "mimetype": "text/x-python",
   "name": "python",
   "nbconvert_exporter": "python",
   "pygments_lexer": "ipython3",
   "version": "3.7.3"
  }
 },
 "nbformat": 4,
 "nbformat_minor": 2
}
