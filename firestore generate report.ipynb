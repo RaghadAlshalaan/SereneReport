{
 "cells": [
  {
   "cell_type": "code",
   "execution_count": 206,
   "metadata": {},
   "outputs": [],
   "source": [
    "import datetime\n",
    "import pandas as pd\n",
    "import numpy as np\n",
    "import firebase_admin\n",
    "from firebase_admin import credentials\n",
    "from firebase_admin import firestore\n",
    "from firebase_admin import storage\n",
    "from datetime import date, timedelta\n",
    "import urllib.request, json \n",
    "import time\n",
    "%matplotlib inline\n",
    "from matplotlib import pyplot as plt\n",
    "import matplotlib.dates as mdates\n",
    "import os\n",
    "import csv\n",
    "from IPython.display import display\n",
    "from Model import trainData\n",
    "import random\n",
    "\n",
    "from matplotlib.patches import Ellipse\n",
    "import seaborn as sns\n",
    "\n",
    "# signal processing\n",
    "from scipy import signal\n",
    "from scipy.ndimage import label\n",
    "from scipy.stats import zscore\n",
    "from scipy.interpolate import interp1d\n",
    "from scipy.integrate import trapz\n",
    "\n",
    "# misc\n",
    "import warnings"
   ]
  },
  {
   "cell_type": "code",
   "execution_count": 2,
   "metadata": {},
   "outputs": [],
   "source": [
    "cred = credentials.Certificate(\"C:/Users/Dell/Documents/serene-2dfd6-firebase-adminsdk-gfc6o-a312184978.json\")\n",
    "app = firebase_admin.initialize_app(cred ,  {\n",
    "    'storageBucket': 'serene-2dfd6.appspot.com',\n",
    "}, name='[DEFAULT]')\n",
    "db = firestore.client()"
   ]
  },
  {
   "cell_type": "code",
   "execution_count": 213,
   "metadata": {},
   "outputs": [],
   "source": [
    "# get from app \n",
    "duration = 30\n",
    "userID = \"UqTdL3T7MteuQHBe1aNfSE9u0Na2\""
   ]
  },
  {
   "cell_type": "markdown",
   "metadata": {},
   "source": [
    "## Generate unique ID"
   ]
  },
  {
   "cell_type": "code",
   "execution_count": 208,
   "metadata": {},
   "outputs": [],
   "source": [
    "# generate report unique ID\n",
    "today = datetime.datetime.now()\n",
    "timestamp = today.strftime(\"%Y-%m-%d %H:%M:%S\")\n",
    "reportId = userID +\" \"+ timestamp\n",
    "reportId = reportId.replace(\" \",\"_\")"
   ]
  },
  {
   "cell_type": "code",
   "execution_count": 209,
   "metadata": {},
   "outputs": [
    {
     "data": {
      "text/plain": [
       "update_time {\n",
       "  seconds: 1585660356\n",
       "  nanos: 12803000\n",
       "}"
      ]
     },
     "execution_count": 209,
     "metadata": {},
     "output_type": "execute_result"
    }
   ],
   "source": [
    "# write to a collection \n",
    "doc_ref = db.collection(u'LastGeneratePatientReport').document('kb2B4KWxTWIHFDLk4ApX')\n",
    "doc_ref.set({\n",
    "    u'name':'anood from python',\n",
    "    u'age':'21'\n",
    "})"
   ]
  },
  {
   "cell_type": "code",
   "execution_count": 210,
   "metadata": {},
   "outputs": [],
   "source": [
    "# store to firebase storage \n",
    "bucket = storage.bucket(app=app)\n",
    "#imagePath = \"image.png\"\n",
    "#imageBlob = bucket.blob(\"7KXzpejWaRgyuZG9zcKttgaKd002/DoctorReport/python_img\")\n",
    "#imageBlob.upload_from_filename(imagePath)"
   ]
  },
  {
   "cell_type": "markdown",
   "metadata": {},
   "source": [
    "## get list of included dates  "
   ]
  },
  {
   "cell_type": "code",
   "execution_count": 211,
   "metadata": {},
   "outputs": [],
   "source": [
    "#get a a list of date between start and end date \n",
    "dates =[]\n",
    "for x in range(0 ,duration):\n",
    "    today=date.today() #revert to original\n",
    "    yesterday = today - datetime.timedelta(days=1)\n",
    "    start_date = (yesterday-timedelta(days=duration-x)).isoformat()\n",
    "    #yesterday = today - datetime.timedelta(days=9)\n",
    "    #start_date = (yesterday-timedelta(days=duration-x)).isoformat()\n",
    "    dates.append(start_date)"
   ]
  },
  {
   "cell_type": "markdown",
   "metadata": {},
   "source": [
    "## Generate a compelete DF"
   ]
  },
  {
   "cell_type": "code",
   "execution_count": 214,
   "metadata": {},
   "outputs": [],
   "source": [
    "df= pd.DataFrame()\n",
    "# loop through the storage and get the data\n",
    "sleep =[]\n",
    "for x in range(0 ,len(dates)):\n",
    "    #Sleep\n",
    "    blob = bucket.blob(userID+\"/fitbitData/\"+dates[x]+\"/\"+dates[x]+\"-sleep.json\")\n",
    "    # download the file \n",
    "    u = blob.generate_signed_url(datetime.timedelta(seconds=300), method='GET')\n",
    "    with urllib.request.urlopen(u) as url:\n",
    "        data = json.loads(url.read().decode())\n",
    "        sleepMinutes = data['summary'][\"totalMinutesAsleep\"]\n",
    "        \n",
    "    #Activity (Steps)\n",
    "    blob = bucket.blob(userID+\"/fitbitData/\"+dates[x]+\"/\"+dates[x]+\"-activity.json\")\n",
    "    # download the file \n",
    "    u = blob.generate_signed_url(datetime.timedelta(seconds=300), method='GET')\n",
    "    with urllib.request.urlopen(u) as url:\n",
    "        data = json.loads(url.read().decode())\n",
    "        steps = data['summary'][\"steps\"]\n",
    "    \n",
    "    #heartrate\n",
    "    blob = bucket.blob(userID+\"/fitbitData/\"+dates[x]+\"/\"+dates[x]+\"-heartrate.json\")\n",
    "    u = blob.generate_signed_url(datetime.timedelta(seconds=300), method='GET')\n",
    "    with urllib.request.urlopen(u) as url:\n",
    "        data = json.loads(url.read().decode())\n",
    "        df_heartrate = pd.DataFrame(data['activities-heart-intraday']['dataset'])\n",
    "    df_heartrate.time.apply(str)\n",
    "    df_heartrate['time'] = pd.to_datetime(df_heartrate['time'])\n",
    "    df_heartrate['hour'] = df_heartrate['time'].apply(lambda time: time.strftime('%H'))\n",
    "    df_heartrate.drop(['time'],axis=1, inplace = True)\n",
    "    heart_rate = df_heartrate.groupby([\"hour\"], as_index=False).mean()\n",
    "    heart_rate['sleepMin'] = sleepMinutes\n",
    "    heart_rate['TotalSteps'] = steps\n",
    "    heart_rate['date'] = dates[x]\n",
    "    heart_rate = heart_rate.astype({\"hour\": int})  \n",
    "    \n",
    "    \n",
    "    # append dataframe\n",
    "    df = df.append(heart_rate, ignore_index = True)\n"
   ]
  },
  {
   "cell_type": "code",
   "execution_count": 215,
   "metadata": {},
   "outputs": [
    {
     "data": {
      "text/html": [
       "<div>\n",
       "<style scoped>\n",
       "    .dataframe tbody tr th:only-of-type {\n",
       "        vertical-align: middle;\n",
       "    }\n",
       "\n",
       "    .dataframe tbody tr th {\n",
       "        vertical-align: top;\n",
       "    }\n",
       "\n",
       "    .dataframe thead th {\n",
       "        text-align: right;\n",
       "    }\n",
       "</style>\n",
       "<table border=\"1\" class=\"dataframe\">\n",
       "  <thead>\n",
       "    <tr style=\"text-align: right;\">\n",
       "      <th></th>\n",
       "      <th>hour</th>\n",
       "      <th>value</th>\n",
       "      <th>sleepMin</th>\n",
       "      <th>TotalSteps</th>\n",
       "      <th>date</th>\n",
       "    </tr>\n",
       "  </thead>\n",
       "  <tbody>\n",
       "    <tr>\n",
       "      <th>0</th>\n",
       "      <td>0</td>\n",
       "      <td>71.050000</td>\n",
       "      <td>248</td>\n",
       "      <td>5389</td>\n",
       "      <td>2020-03-08</td>\n",
       "    </tr>\n",
       "    <tr>\n",
       "      <th>1</th>\n",
       "      <td>1</td>\n",
       "      <td>71.400000</td>\n",
       "      <td>248</td>\n",
       "      <td>5389</td>\n",
       "      <td>2020-03-08</td>\n",
       "    </tr>\n",
       "    <tr>\n",
       "      <th>2</th>\n",
       "      <td>2</td>\n",
       "      <td>72.083333</td>\n",
       "      <td>248</td>\n",
       "      <td>5389</td>\n",
       "      <td>2020-03-08</td>\n",
       "    </tr>\n",
       "    <tr>\n",
       "      <th>3</th>\n",
       "      <td>3</td>\n",
       "      <td>60.516667</td>\n",
       "      <td>248</td>\n",
       "      <td>5389</td>\n",
       "      <td>2020-03-08</td>\n",
       "    </tr>\n",
       "    <tr>\n",
       "      <th>4</th>\n",
       "      <td>4</td>\n",
       "      <td>61.150000</td>\n",
       "      <td>248</td>\n",
       "      <td>5389</td>\n",
       "      <td>2020-03-08</td>\n",
       "    </tr>\n",
       "  </tbody>\n",
       "</table>\n",
       "</div>"
      ],
      "text/plain": [
       "   hour      value  sleepMin  TotalSteps        date\n",
       "0     0  71.050000       248        5389  2020-03-08\n",
       "1     1  71.400000       248        5389  2020-03-08\n",
       "2     2  72.083333       248        5389  2020-03-08\n",
       "3     3  60.516667       248        5389  2020-03-08\n",
       "4     4  61.150000       248        5389  2020-03-08"
      ]
     },
     "execution_count": 215,
     "metadata": {},
     "output_type": "execute_result"
    }
   ],
   "source": [
    "df.head(5)"
   ]
  },
  {
   "cell_type": "markdown",
   "metadata": {},
   "source": [
    "## Get user locations"
   ]
  },
  {
   "cell_type": "code",
   "execution_count": 216,
   "metadata": {},
   "outputs": [],
   "source": [
    "# get location from database\n",
    "loc_df = pd.DataFrame()\n",
    "locID = []\n",
    "locations = db.collection(u'PatientLocations').where(u'patientID', u'==', userID ).stream()\n",
    "\n",
    "for location in locations:\n",
    "    loc = location.to_dict()\n",
    "    locID.append(location.id)\n",
    "    loc_df = loc_df.append(pd.DataFrame(loc,index=[0]),ignore_index=True)\n",
    "    \n",
    "loc_df['id'] = locID\n",
    "  "
   ]
  },
  {
   "cell_type": "code",
   "execution_count": 217,
   "metadata": {},
   "outputs": [],
   "source": [
    "loc_df.drop(['anxietyLevel', 'lat','lng', 'patientID'  ], axis=1, inplace = True)"
   ]
  },
  {
   "cell_type": "code",
   "execution_count": 218,
   "metadata": {},
   "outputs": [
    {
     "data": {
      "text/html": [
       "<div>\n",
       "<style scoped>\n",
       "    .dataframe tbody tr th:only-of-type {\n",
       "        vertical-align: middle;\n",
       "    }\n",
       "\n",
       "    .dataframe tbody tr th {\n",
       "        vertical-align: top;\n",
       "    }\n",
       "\n",
       "    .dataframe thead th {\n",
       "        text-align: right;\n",
       "    }\n",
       "</style>\n",
       "<table border=\"1\" class=\"dataframe\">\n",
       "  <thead>\n",
       "    <tr style=\"text-align: right;\">\n",
       "      <th></th>\n",
       "      <th>nearestLoc</th>\n",
       "      <th>name</th>\n",
       "      <th>lon</th>\n",
       "      <th>time</th>\n",
       "      <th>id</th>\n",
       "    </tr>\n",
       "  </thead>\n",
       "  <tbody>\n",
       "    <tr>\n",
       "      <th>465</th>\n",
       "      <td>Nakhil Park</td>\n",
       "      <td>An Nakheel District</td>\n",
       "      <td>NaN</td>\n",
       "      <td>2020-04-07 19:35:08.904000+00:00</td>\n",
       "      <td>ff13c359-9f8f-41d6-8346-23b57c5a625a</td>\n",
       "    </tr>\n",
       "    <tr>\n",
       "      <th>466</th>\n",
       "      <td>Nakhil Park</td>\n",
       "      <td>An Nakheel District</td>\n",
       "      <td>NaN</td>\n",
       "      <td>2020-04-06 14:19:28.543000+00:00</td>\n",
       "      <td>ffaf05db-875b-46c7-828d-f9f09be068ee</td>\n",
       "    </tr>\n",
       "    <tr>\n",
       "      <th>467</th>\n",
       "      <td>College of Languages and Translation</td>\n",
       "      <td>King Saud University</td>\n",
       "      <td>NaN</td>\n",
       "      <td>2020-02-27 02:05:05+00:00</td>\n",
       "      <td>qLDk39LMnWtSLbufhgNN</td>\n",
       "    </tr>\n",
       "    <tr>\n",
       "      <th>468</th>\n",
       "      <td>No nearby places.</td>\n",
       "      <td>Al Malqa</td>\n",
       "      <td>NaN</td>\n",
       "      <td>2020-03-01 01:15:00+00:00</td>\n",
       "      <td>zI4A6Uzk7TB8NObz98jP</td>\n",
       "    </tr>\n",
       "    <tr>\n",
       "      <th>469</th>\n",
       "      <td>Suwaidi Park - مصلى الحديقة</td>\n",
       "      <td>As Suwaidi</td>\n",
       "      <td>NaN</td>\n",
       "      <td>2020-03-24 11:14:13+00:00</td>\n",
       "      <td>zcLTicRPDYbnqHDrgjtj</td>\n",
       "    </tr>\n",
       "  </tbody>\n",
       "</table>\n",
       "</div>"
      ],
      "text/plain": [
       "                               nearestLoc                  name  lon  \\\n",
       "465                           Nakhil Park   An Nakheel District  NaN   \n",
       "466                           Nakhil Park   An Nakheel District  NaN   \n",
       "467  College of Languages and Translation  King Saud University  NaN   \n",
       "468                     No nearby places.              Al Malqa  NaN   \n",
       "469           Suwaidi Park - مصلى الحديقة            As Suwaidi  NaN   \n",
       "\n",
       "                                time                                    id  \n",
       "465 2020-04-07 19:35:08.904000+00:00  ff13c359-9f8f-41d6-8346-23b57c5a625a  \n",
       "466 2020-04-06 14:19:28.543000+00:00  ffaf05db-875b-46c7-828d-f9f09be068ee  \n",
       "467        2020-02-27 02:05:05+00:00                  qLDk39LMnWtSLbufhgNN  \n",
       "468        2020-03-01 01:15:00+00:00                  zI4A6Uzk7TB8NObz98jP  \n",
       "469        2020-03-24 11:14:13+00:00                  zcLTicRPDYbnqHDrgjtj  "
      ]
     },
     "execution_count": 218,
     "metadata": {},
     "output_type": "execute_result"
    }
   ],
   "source": [
    "loc_df.tail(5)"
   ]
  },
  {
   "cell_type": "code",
   "execution_count": 219,
   "metadata": {},
   "outputs": [],
   "source": [
    "loc_df.time.apply(str)\n",
    "loc_df['time'] = pd.to_datetime(loc_df['time'])\n",
    "loc_df['date'] = pd.to_datetime(loc_df['time'], format='%Y:%M:%D').dt.date\n",
    "loc_df['hour'] = loc_df['time'].apply(lambda time: time.strftime('%H'))\n",
    "loc_df.drop(['time'], axis=1, inplace = True)\n",
    "loc_df.hour = loc_df.hour.astype(int) \n",
    "loc_df.date = loc_df.date.astype(str)\n",
    "df.date = df.date.astype(str)"
   ]
  },
  {
   "cell_type": "code",
   "execution_count": 220,
   "metadata": {},
   "outputs": [
    {
     "data": {
      "text/html": [
       "<div>\n",
       "<style scoped>\n",
       "    .dataframe tbody tr th:only-of-type {\n",
       "        vertical-align: middle;\n",
       "    }\n",
       "\n",
       "    .dataframe tbody tr th {\n",
       "        vertical-align: top;\n",
       "    }\n",
       "\n",
       "    .dataframe thead th {\n",
       "        text-align: right;\n",
       "    }\n",
       "</style>\n",
       "<table border=\"1\" class=\"dataframe\">\n",
       "  <thead>\n",
       "    <tr style=\"text-align: right;\">\n",
       "      <th></th>\n",
       "      <th>nearestLoc</th>\n",
       "      <th>name</th>\n",
       "      <th>lon</th>\n",
       "      <th>id</th>\n",
       "      <th>date</th>\n",
       "      <th>hour</th>\n",
       "    </tr>\n",
       "  </thead>\n",
       "  <tbody>\n",
       "    <tr>\n",
       "      <th>465</th>\n",
       "      <td>Nakhil Park</td>\n",
       "      <td>An Nakheel District</td>\n",
       "      <td>NaN</td>\n",
       "      <td>ff13c359-9f8f-41d6-8346-23b57c5a625a</td>\n",
       "      <td>2020-04-07</td>\n",
       "      <td>19</td>\n",
       "    </tr>\n",
       "    <tr>\n",
       "      <th>466</th>\n",
       "      <td>Nakhil Park</td>\n",
       "      <td>An Nakheel District</td>\n",
       "      <td>NaN</td>\n",
       "      <td>ffaf05db-875b-46c7-828d-f9f09be068ee</td>\n",
       "      <td>2020-04-06</td>\n",
       "      <td>14</td>\n",
       "    </tr>\n",
       "    <tr>\n",
       "      <th>467</th>\n",
       "      <td>College of Languages and Translation</td>\n",
       "      <td>King Saud University</td>\n",
       "      <td>NaN</td>\n",
       "      <td>qLDk39LMnWtSLbufhgNN</td>\n",
       "      <td>2020-02-27</td>\n",
       "      <td>2</td>\n",
       "    </tr>\n",
       "    <tr>\n",
       "      <th>468</th>\n",
       "      <td>No nearby places.</td>\n",
       "      <td>Al Malqa</td>\n",
       "      <td>NaN</td>\n",
       "      <td>zI4A6Uzk7TB8NObz98jP</td>\n",
       "      <td>2020-03-01</td>\n",
       "      <td>1</td>\n",
       "    </tr>\n",
       "    <tr>\n",
       "      <th>469</th>\n",
       "      <td>Suwaidi Park - مصلى الحديقة</td>\n",
       "      <td>As Suwaidi</td>\n",
       "      <td>NaN</td>\n",
       "      <td>zcLTicRPDYbnqHDrgjtj</td>\n",
       "      <td>2020-03-24</td>\n",
       "      <td>11</td>\n",
       "    </tr>\n",
       "  </tbody>\n",
       "</table>\n",
       "</div>"
      ],
      "text/plain": [
       "                               nearestLoc                  name  lon  \\\n",
       "465                           Nakhil Park   An Nakheel District  NaN   \n",
       "466                           Nakhil Park   An Nakheel District  NaN   \n",
       "467  College of Languages and Translation  King Saud University  NaN   \n",
       "468                     No nearby places.              Al Malqa  NaN   \n",
       "469           Suwaidi Park - مصلى الحديقة            As Suwaidi  NaN   \n",
       "\n",
       "                                       id        date  hour  \n",
       "465  ff13c359-9f8f-41d6-8346-23b57c5a625a  2020-04-07    19  \n",
       "466  ffaf05db-875b-46c7-828d-f9f09be068ee  2020-04-06    14  \n",
       "467                  qLDk39LMnWtSLbufhgNN  2020-02-27     2  \n",
       "468                  zI4A6Uzk7TB8NObz98jP  2020-03-01     1  \n",
       "469                  zcLTicRPDYbnqHDrgjtj  2020-03-24    11  "
      ]
     },
     "execution_count": 220,
     "metadata": {},
     "output_type": "execute_result"
    }
   ],
   "source": [
    "loc_df.tail(5)"
   ]
  },
  {
   "cell_type": "code",
   "execution_count": 221,
   "metadata": {},
   "outputs": [],
   "source": [
    "#merge dataframe\n",
    "\n",
    "dfinal = pd.merge(left=df, \n",
    "                  right = loc_df,\n",
    "                  how = 'left',\n",
    "                  left_on=['hour','date'],\n",
    "                  right_on=['hour','date']).ffill()\n",
    "\n",
    "\n"
   ]
  },
  {
   "cell_type": "code",
   "execution_count": 222,
   "metadata": {},
   "outputs": [
    {
     "data": {
      "text/html": [
       "<div>\n",
       "<style scoped>\n",
       "    .dataframe tbody tr th:only-of-type {\n",
       "        vertical-align: middle;\n",
       "    }\n",
       "\n",
       "    .dataframe tbody tr th {\n",
       "        vertical-align: top;\n",
       "    }\n",
       "\n",
       "    .dataframe thead th {\n",
       "        text-align: right;\n",
       "    }\n",
       "</style>\n",
       "<table border=\"1\" class=\"dataframe\">\n",
       "  <thead>\n",
       "    <tr style=\"text-align: right;\">\n",
       "      <th></th>\n",
       "      <th>hour</th>\n",
       "      <th>value</th>\n",
       "      <th>sleepMin</th>\n",
       "      <th>TotalSteps</th>\n",
       "      <th>date</th>\n",
       "      <th>nearestLoc</th>\n",
       "      <th>name</th>\n",
       "      <th>lon</th>\n",
       "      <th>id</th>\n",
       "    </tr>\n",
       "  </thead>\n",
       "  <tbody>\n",
       "    <tr>\n",
       "      <th>0</th>\n",
       "      <td>0</td>\n",
       "      <td>71.050000</td>\n",
       "      <td>248</td>\n",
       "      <td>5389</td>\n",
       "      <td>2020-03-08</td>\n",
       "      <td>NaN</td>\n",
       "      <td>NaN</td>\n",
       "      <td>NaN</td>\n",
       "      <td>NaN</td>\n",
       "    </tr>\n",
       "    <tr>\n",
       "      <th>1</th>\n",
       "      <td>1</td>\n",
       "      <td>71.400000</td>\n",
       "      <td>248</td>\n",
       "      <td>5389</td>\n",
       "      <td>2020-03-08</td>\n",
       "      <td>NaN</td>\n",
       "      <td>NaN</td>\n",
       "      <td>NaN</td>\n",
       "      <td>NaN</td>\n",
       "    </tr>\n",
       "    <tr>\n",
       "      <th>2</th>\n",
       "      <td>2</td>\n",
       "      <td>72.083333</td>\n",
       "      <td>248</td>\n",
       "      <td>5389</td>\n",
       "      <td>2020-03-08</td>\n",
       "      <td>NaN</td>\n",
       "      <td>NaN</td>\n",
       "      <td>NaN</td>\n",
       "      <td>NaN</td>\n",
       "    </tr>\n",
       "    <tr>\n",
       "      <th>3</th>\n",
       "      <td>3</td>\n",
       "      <td>60.516667</td>\n",
       "      <td>248</td>\n",
       "      <td>5389</td>\n",
       "      <td>2020-03-08</td>\n",
       "      <td>NaN</td>\n",
       "      <td>NaN</td>\n",
       "      <td>NaN</td>\n",
       "      <td>NaN</td>\n",
       "    </tr>\n",
       "    <tr>\n",
       "      <th>4</th>\n",
       "      <td>4</td>\n",
       "      <td>61.150000</td>\n",
       "      <td>248</td>\n",
       "      <td>5389</td>\n",
       "      <td>2020-03-08</td>\n",
       "      <td>NaN</td>\n",
       "      <td>NaN</td>\n",
       "      <td>NaN</td>\n",
       "      <td>NaN</td>\n",
       "    </tr>\n",
       "    <tr>\n",
       "      <th>...</th>\n",
       "      <td>...</td>\n",
       "      <td>...</td>\n",
       "      <td>...</td>\n",
       "      <td>...</td>\n",
       "      <td>...</td>\n",
       "      <td>...</td>\n",
       "      <td>...</td>\n",
       "      <td>...</td>\n",
       "      <td>...</td>\n",
       "    </tr>\n",
       "    <tr>\n",
       "      <th>929</th>\n",
       "      <td>16</td>\n",
       "      <td>74.528302</td>\n",
       "      <td>279</td>\n",
       "      <td>1799</td>\n",
       "      <td>2020-04-06</td>\n",
       "      <td>Nakhil Park</td>\n",
       "      <td>An Nakheel District</td>\n",
       "      <td>46.689634</td>\n",
       "      <td>84baf6dc-67ee-46d5-a091-6c8b4f3fd954</td>\n",
       "    </tr>\n",
       "    <tr>\n",
       "      <th>930</th>\n",
       "      <td>16</td>\n",
       "      <td>74.528302</td>\n",
       "      <td>279</td>\n",
       "      <td>1799</td>\n",
       "      <td>2020-04-06</td>\n",
       "      <td>Nakhil Park</td>\n",
       "      <td>An Nakheel District</td>\n",
       "      <td>46.689634</td>\n",
       "      <td>dcc59e0b-463b-4021-afd0-80bf8d716ba2</td>\n",
       "    </tr>\n",
       "    <tr>\n",
       "      <th>931</th>\n",
       "      <td>16</td>\n",
       "      <td>74.528302</td>\n",
       "      <td>279</td>\n",
       "      <td>1799</td>\n",
       "      <td>2020-04-06</td>\n",
       "      <td>Nakhil Park</td>\n",
       "      <td>An Nakheel District</td>\n",
       "      <td>46.689634</td>\n",
       "      <td>e6cf6dae-9d8c-47ca-986e-a4b143ee0c07</td>\n",
       "    </tr>\n",
       "    <tr>\n",
       "      <th>932</th>\n",
       "      <td>16</td>\n",
       "      <td>74.528302</td>\n",
       "      <td>279</td>\n",
       "      <td>1799</td>\n",
       "      <td>2020-04-06</td>\n",
       "      <td>Nakhil Park</td>\n",
       "      <td>An Nakheel District</td>\n",
       "      <td>46.689634</td>\n",
       "      <td>f4d58f5d-f2dc-4353-b4a7-d63501bec952</td>\n",
       "    </tr>\n",
       "    <tr>\n",
       "      <th>933</th>\n",
       "      <td>16</td>\n",
       "      <td>74.528302</td>\n",
       "      <td>279</td>\n",
       "      <td>1799</td>\n",
       "      <td>2020-04-06</td>\n",
       "      <td>Nakhil Park</td>\n",
       "      <td>An Nakheel District</td>\n",
       "      <td>46.689634</td>\n",
       "      <td>fb36cd72-1ec3-4bda-a4f2-7e85382c27fa</td>\n",
       "    </tr>\n",
       "  </tbody>\n",
       "</table>\n",
       "<p>934 rows × 9 columns</p>\n",
       "</div>"
      ],
      "text/plain": [
       "     hour      value  sleepMin  TotalSteps        date   nearestLoc  \\\n",
       "0       0  71.050000       248        5389  2020-03-08          NaN   \n",
       "1       1  71.400000       248        5389  2020-03-08          NaN   \n",
       "2       2  72.083333       248        5389  2020-03-08          NaN   \n",
       "3       3  60.516667       248        5389  2020-03-08          NaN   \n",
       "4       4  61.150000       248        5389  2020-03-08          NaN   \n",
       "..    ...        ...       ...         ...         ...          ...   \n",
       "929    16  74.528302       279        1799  2020-04-06  Nakhil Park   \n",
       "930    16  74.528302       279        1799  2020-04-06  Nakhil Park   \n",
       "931    16  74.528302       279        1799  2020-04-06  Nakhil Park   \n",
       "932    16  74.528302       279        1799  2020-04-06  Nakhil Park   \n",
       "933    16  74.528302       279        1799  2020-04-06  Nakhil Park   \n",
       "\n",
       "                    name        lon                                    id  \n",
       "0                    NaN        NaN                                   NaN  \n",
       "1                    NaN        NaN                                   NaN  \n",
       "2                    NaN        NaN                                   NaN  \n",
       "3                    NaN        NaN                                   NaN  \n",
       "4                    NaN        NaN                                   NaN  \n",
       "..                   ...        ...                                   ...  \n",
       "929  An Nakheel District  46.689634  84baf6dc-67ee-46d5-a091-6c8b4f3fd954  \n",
       "930  An Nakheel District  46.689634  dcc59e0b-463b-4021-afd0-80bf8d716ba2  \n",
       "931  An Nakheel District  46.689634  e6cf6dae-9d8c-47ca-986e-a4b143ee0c07  \n",
       "932  An Nakheel District  46.689634  f4d58f5d-f2dc-4353-b4a7-d63501bec952  \n",
       "933  An Nakheel District  46.689634  fb36cd72-1ec3-4bda-a4f2-7e85382c27fa  \n",
       "\n",
       "[934 rows x 9 columns]"
      ]
     },
     "execution_count": 222,
     "metadata": {},
     "output_type": "execute_result"
    }
   ],
   "source": [
    "dfinal"
   ]
  },
  {
   "cell_type": "markdown",
   "metadata": {},
   "source": [
    "## Train dataset from the model"
   ]
  },
  {
   "cell_type": "code",
   "execution_count": 223,
   "metadata": {},
   "outputs": [],
   "source": [
    "#test model \n",
    "train_df = dfinal.rename(columns={'value': 'Heartrate'})\n",
    "#train_df.drop(['hour','date',], axis=1, inplace = True)"
   ]
  },
  {
   "cell_type": "code",
   "execution_count": 224,
   "metadata": {},
   "outputs": [],
   "source": [
    "Labeled_df = pd.DataFrame()\n",
    "Labeled_df = trainData(train_df)"
   ]
  },
  {
   "cell_type": "code",
   "execution_count": 225,
   "metadata": {},
   "outputs": [],
   "source": [
    "Labeled_df.drop(['lon'],axis=1, inplace = True)"
   ]
  },
  {
   "cell_type": "code",
   "execution_count": 226,
   "metadata": {},
   "outputs": [],
   "source": [
    "# Replace missing values because it doesn't exist\n",
    "Labeled_df['name'].fillna(\"Not given\", inplace=True)\n",
    "Labeled_df['id'].fillna(\"Not given\", inplace=True)"
   ]
  },
  {
   "cell_type": "code",
   "execution_count": 227,
   "metadata": {},
   "outputs": [
    {
     "data": {
      "text/html": [
       "<div>\n",
       "<style scoped>\n",
       "    .dataframe tbody tr th:only-of-type {\n",
       "        vertical-align: middle;\n",
       "    }\n",
       "\n",
       "    .dataframe tbody tr th {\n",
       "        vertical-align: top;\n",
       "    }\n",
       "\n",
       "    .dataframe thead th {\n",
       "        text-align: right;\n",
       "    }\n",
       "</style>\n",
       "<table border=\"1\" class=\"dataframe\">\n",
       "  <thead>\n",
       "    <tr style=\"text-align: right;\">\n",
       "      <th></th>\n",
       "      <th>hour</th>\n",
       "      <th>Heartrate</th>\n",
       "      <th>sleepMin</th>\n",
       "      <th>TotalSteps</th>\n",
       "      <th>date</th>\n",
       "      <th>nearestLoc</th>\n",
       "      <th>name</th>\n",
       "      <th>id</th>\n",
       "      <th>Label</th>\n",
       "    </tr>\n",
       "  </thead>\n",
       "  <tbody>\n",
       "    <tr>\n",
       "      <th>929</th>\n",
       "      <td>16</td>\n",
       "      <td>74.528302</td>\n",
       "      <td>279</td>\n",
       "      <td>1799</td>\n",
       "      <td>2020-04-06</td>\n",
       "      <td>Nakhil Park</td>\n",
       "      <td>An Nakheel District</td>\n",
       "      <td>84baf6dc-67ee-46d5-a091-6c8b4f3fd954</td>\n",
       "      <td>Meduim</td>\n",
       "    </tr>\n",
       "    <tr>\n",
       "      <th>930</th>\n",
       "      <td>16</td>\n",
       "      <td>74.528302</td>\n",
       "      <td>279</td>\n",
       "      <td>1799</td>\n",
       "      <td>2020-04-06</td>\n",
       "      <td>Nakhil Park</td>\n",
       "      <td>An Nakheel District</td>\n",
       "      <td>dcc59e0b-463b-4021-afd0-80bf8d716ba2</td>\n",
       "      <td>Meduim</td>\n",
       "    </tr>\n",
       "    <tr>\n",
       "      <th>931</th>\n",
       "      <td>16</td>\n",
       "      <td>74.528302</td>\n",
       "      <td>279</td>\n",
       "      <td>1799</td>\n",
       "      <td>2020-04-06</td>\n",
       "      <td>Nakhil Park</td>\n",
       "      <td>An Nakheel District</td>\n",
       "      <td>e6cf6dae-9d8c-47ca-986e-a4b143ee0c07</td>\n",
       "      <td>Meduim</td>\n",
       "    </tr>\n",
       "    <tr>\n",
       "      <th>932</th>\n",
       "      <td>16</td>\n",
       "      <td>74.528302</td>\n",
       "      <td>279</td>\n",
       "      <td>1799</td>\n",
       "      <td>2020-04-06</td>\n",
       "      <td>Nakhil Park</td>\n",
       "      <td>An Nakheel District</td>\n",
       "      <td>f4d58f5d-f2dc-4353-b4a7-d63501bec952</td>\n",
       "      <td>Meduim</td>\n",
       "    </tr>\n",
       "    <tr>\n",
       "      <th>933</th>\n",
       "      <td>16</td>\n",
       "      <td>74.528302</td>\n",
       "      <td>279</td>\n",
       "      <td>1799</td>\n",
       "      <td>2020-04-06</td>\n",
       "      <td>Nakhil Park</td>\n",
       "      <td>An Nakheel District</td>\n",
       "      <td>fb36cd72-1ec3-4bda-a4f2-7e85382c27fa</td>\n",
       "      <td>Meduim</td>\n",
       "    </tr>\n",
       "  </tbody>\n",
       "</table>\n",
       "</div>"
      ],
      "text/plain": [
       "     hour  Heartrate  sleepMin  TotalSteps        date   nearestLoc  \\\n",
       "929    16  74.528302       279        1799  2020-04-06  Nakhil Park   \n",
       "930    16  74.528302       279        1799  2020-04-06  Nakhil Park   \n",
       "931    16  74.528302       279        1799  2020-04-06  Nakhil Park   \n",
       "932    16  74.528302       279        1799  2020-04-06  Nakhil Park   \n",
       "933    16  74.528302       279        1799  2020-04-06  Nakhil Park   \n",
       "\n",
       "                    name                                    id   Label  \n",
       "929  An Nakheel District  84baf6dc-67ee-46d5-a091-6c8b4f3fd954  Meduim  \n",
       "930  An Nakheel District  dcc59e0b-463b-4021-afd0-80bf8d716ba2  Meduim  \n",
       "931  An Nakheel District  e6cf6dae-9d8c-47ca-986e-a4b143ee0c07  Meduim  \n",
       "932  An Nakheel District  f4d58f5d-f2dc-4353-b4a7-d63501bec952  Meduim  \n",
       "933  An Nakheel District  fb36cd72-1ec3-4bda-a4f2-7e85382c27fa  Meduim  "
      ]
     },
     "execution_count": 227,
     "metadata": {},
     "output_type": "execute_result"
    }
   ],
   "source": [
    "Labeled_df.tail(5)"
   ]
  },
  {
   "cell_type": "code",
   "execution_count": 228,
   "metadata": {},
   "outputs": [],
   "source": [
    "# Update firebase with the user anxiety level \n",
    "for row in Labeled_df.itertuples():\n",
    "    if row.id != 'Not given':\n",
    "        if row.Label == 'Low' or row.Label == 'LowA':\n",
    "            anxietyLevel = 1\n",
    "        elif row.Label == 'Meduim':\n",
    "            anxietyLevel = 2\n",
    "        else:\n",
    "            anxietyLevel = 3 \n",
    "        doc_ref = db.collection(u'PatientLocations').document(row.id)\n",
    "        doc_ref.update({\n",
    "                            u'anxietyLevel':anxietyLevel\n",
    "                     })\n",
    "            "
   ]
  },
  {
   "cell_type": "code",
   "execution_count": 229,
   "metadata": {},
   "outputs": [],
   "source": [
    "# Show the highest level \n",
    "df_high = pd.DataFrame()\n",
    "df_high = Labeled_df[Labeled_df.Label == 'High']"
   ]
  },
  {
   "cell_type": "code",
   "execution_count": 230,
   "metadata": {},
   "outputs": [
    {
     "data": {
      "text/html": [
       "<div>\n",
       "<style scoped>\n",
       "    .dataframe tbody tr th:only-of-type {\n",
       "        vertical-align: middle;\n",
       "    }\n",
       "\n",
       "    .dataframe tbody tr th {\n",
       "        vertical-align: top;\n",
       "    }\n",
       "\n",
       "    .dataframe thead th {\n",
       "        text-align: right;\n",
       "    }\n",
       "</style>\n",
       "<table border=\"1\" class=\"dataframe\">\n",
       "  <thead>\n",
       "    <tr style=\"text-align: right;\">\n",
       "      <th></th>\n",
       "      <th>hour</th>\n",
       "      <th>Heartrate</th>\n",
       "      <th>sleepMin</th>\n",
       "      <th>TotalSteps</th>\n",
       "      <th>date</th>\n",
       "      <th>nearestLoc</th>\n",
       "      <th>name</th>\n",
       "      <th>id</th>\n",
       "      <th>Label</th>\n",
       "    </tr>\n",
       "  </thead>\n",
       "  <tbody>\n",
       "  </tbody>\n",
       "</table>\n",
       "</div>"
      ],
      "text/plain": [
       "Empty DataFrame\n",
       "Columns: [hour, Heartrate, sleepMin, TotalSteps, date, nearestLoc, name, id, Label]\n",
       "Index: []"
      ]
     },
     "execution_count": 230,
     "metadata": {},
     "output_type": "execute_result"
    }
   ],
   "source": [
    "df_high.head(5)"
   ]
  },
  {
   "cell_type": "markdown",
   "metadata": {},
   "source": [
    "## Recomendations"
   ]
  },
  {
   "cell_type": "code",
   "execution_count": 231,
   "metadata": {},
   "outputs": [],
   "source": [
    "docDf = pd.DataFrame()\n",
    "doc_ref = db.collection(u'Patient').document(userID)\n",
    "doc = doc_ref.get().to_dict()\n",
    "docDf = docDf.append(pd.DataFrame(doc,index=[0]),ignore_index=True)"
   ]
  },
  {
   "cell_type": "code",
   "execution_count": 232,
   "metadata": {},
   "outputs": [
    {
     "name": "stdout",
     "output_type": "stream",
     "text": [
      "22\n"
     ]
    }
   ],
   "source": [
    "age1 = docDf['age'].values\n",
    "age = age1[0] \n",
    "compareAge = int(age)\n",
    "print(age)"
   ]
  },
  {
   "cell_type": "code",
   "execution_count": 233,
   "metadata": {},
   "outputs": [
    {
     "name": "stdout",
     "output_type": "stream",
     "text": [
      "3500.928265524625\n"
     ]
    }
   ],
   "source": [
    "sleepMin = Labeled_df['sleepMin'].mean()\n",
    "totalSteps = Labeled_df['TotalSteps'].mean()\n",
    "\n",
    "sleepRecomendation = False\n",
    "stepsRecomendation = False\n",
    "recomendedSteps = 'No recomendation'\n",
    "\n",
    "if sleepMin < 360:\n",
    "    sleepRecomendation = True\n",
    "if compareAge < 20 and compareAge > 11:\n",
    "    if totalSteps < 6000:\n",
    "        stepsRecomendation = True\n",
    "        recomendedSteps = '6000'\n",
    "if compareAge < 66 and compareAge > 19:  \n",
    "     if totalSteps < 3000:\n",
    "        stepsRecomendation = True\n",
    "        recomendedSteps = '3000'\n",
    "        \n",
    "sleepMin = sleepMin / 60\n",
    "\n",
    "\n",
    "float(\"{:.2f}\".format(sleepMin))\n",
    "float(\"{:.2f}\".format(totalSteps))\n",
    "print( totalSteps)"
   ]
  },
  {
   "cell_type": "code",
   "execution_count": 234,
   "metadata": {},
   "outputs": [
    {
     "data": {
      "text/plain": [
       "update_time {\n",
       "  seconds: 1586309539\n",
       "  nanos: 956749000\n",
       "}"
      ]
     },
     "execution_count": 234,
     "metadata": {},
     "output_type": "execute_result"
    }
   ],
   "source": [
    "# store recomendation in database\n",
    "ID = random.randint(1500000,10000000)\n",
    "doc_rec = db.collection(u'LastGeneratePatientReport').document(str(ID))\n",
    "doc_rec.set({\n",
    "    u'steps': totalSteps,\n",
    "    u'patientID':userID,\n",
    "    u'sleepMin': sleepMin,\n",
    "    u'sleepRecomendation': sleepRecomendation,\n",
    "    u'stepsRecomendation': stepsRecomendation,\n",
    "    u'recommended_steps': recomendedSteps\n",
    "})\n"
   ]
  },
  {
   "cell_type": "markdown",
   "metadata": {},
   "source": [
    "# Plot"
   ]
  },
  {
   "cell_type": "markdown",
   "metadata": {},
   "source": [
    "## HR"
   ]
  },
  {
   "cell_type": "code",
   "execution_count": 235,
   "metadata": {},
   "outputs": [],
   "source": [
    "sns.set(style='whitegrid', rc={'axes.facecolor': '#fcfeff'})\n"
   ]
  },
  {
   "cell_type": "code",
   "execution_count": 236,
   "metadata": {
    "scrolled": true
   },
   "outputs": [
    {
     "data": {
      "text/html": [
       "<div>\n",
       "<style scoped>\n",
       "    .dataframe tbody tr th:only-of-type {\n",
       "        vertical-align: middle;\n",
       "    }\n",
       "\n",
       "    .dataframe tbody tr th {\n",
       "        vertical-align: top;\n",
       "    }\n",
       "\n",
       "    .dataframe thead th {\n",
       "        text-align: right;\n",
       "    }\n",
       "</style>\n",
       "<table border=\"1\" class=\"dataframe\">\n",
       "  <thead>\n",
       "    <tr style=\"text-align: right;\">\n",
       "      <th></th>\n",
       "      <th>hour</th>\n",
       "      <th>value</th>\n",
       "      <th>sleepMin</th>\n",
       "      <th>TotalSteps</th>\n",
       "      <th>date</th>\n",
       "    </tr>\n",
       "  </thead>\n",
       "  <tbody>\n",
       "    <tr>\n",
       "      <th>0</th>\n",
       "      <td>0</td>\n",
       "      <td>71.050000</td>\n",
       "      <td>248</td>\n",
       "      <td>5389</td>\n",
       "      <td>2020-03-08</td>\n",
       "    </tr>\n",
       "    <tr>\n",
       "      <th>1</th>\n",
       "      <td>1</td>\n",
       "      <td>71.400000</td>\n",
       "      <td>248</td>\n",
       "      <td>5389</td>\n",
       "      <td>2020-03-08</td>\n",
       "    </tr>\n",
       "    <tr>\n",
       "      <th>2</th>\n",
       "      <td>2</td>\n",
       "      <td>72.083333</td>\n",
       "      <td>248</td>\n",
       "      <td>5389</td>\n",
       "      <td>2020-03-08</td>\n",
       "    </tr>\n",
       "    <tr>\n",
       "      <th>3</th>\n",
       "      <td>3</td>\n",
       "      <td>60.516667</td>\n",
       "      <td>248</td>\n",
       "      <td>5389</td>\n",
       "      <td>2020-03-08</td>\n",
       "    </tr>\n",
       "    <tr>\n",
       "      <th>4</th>\n",
       "      <td>4</td>\n",
       "      <td>61.150000</td>\n",
       "      <td>248</td>\n",
       "      <td>5389</td>\n",
       "      <td>2020-03-08</td>\n",
       "    </tr>\n",
       "  </tbody>\n",
       "</table>\n",
       "</div>"
      ],
      "text/plain": [
       "   hour      value  sleepMin  TotalSteps        date\n",
       "0     0  71.050000       248        5389  2020-03-08\n",
       "1     1  71.400000       248        5389  2020-03-08\n",
       "2     2  72.083333       248        5389  2020-03-08\n",
       "3     3  60.516667       248        5389  2020-03-08\n",
       "4     4  61.150000       248        5389  2020-03-08"
      ]
     },
     "execution_count": 236,
     "metadata": {},
     "output_type": "execute_result"
    }
   ],
   "source": [
    "df.head(5)"
   ]
  },
  {
   "cell_type": "code",
   "execution_count": 237,
   "metadata": {},
   "outputs": [],
   "source": [
    "#dfhr = pd.DataFrame()\n",
    "#hr = []\n",
    "#hrr = 0\n",
    "#rowCount = 1\n",
    "#for x in range(0 ,len(dates)):\n",
    " #   for row in df.itertuples():\n",
    "  #      if (row.date == dates[x]):\n",
    "   #         rowCount += 1\n",
    "    #        hrr += row.value\n",
    "    #hr.append(hrr/rowCount)\n",
    "    \n",
    "\n",
    "#dfhr['date'] = dates\n",
    "#dfhr['hr'] = hr\n",
    "\n",
    "# Take the highest heartrate in a day\n",
    "dfhr = pd.DataFrame()\n",
    "hr = []\n",
    "hrr = 0\n",
    "rowCount = 1\n",
    "for x in range(0 ,len(dates)):\n",
    "    rowCount = 0\n",
    "    for row in df.itertuples():\n",
    "        if (row.date == dates[x]):\n",
    "            if(row.value > rowCount):\n",
    "                rowCount = row.value\n",
    "    hr.append(rowCount)\n",
    "    \n",
    "\n",
    "dfhr['date'] = dates\n",
    "dfhr['hr'] = hr\n"
   ]
  },
  {
   "cell_type": "code",
   "execution_count": 238,
   "metadata": {},
   "outputs": [
    {
     "data": {
      "text/html": [
       "<div>\n",
       "<style scoped>\n",
       "    .dataframe tbody tr th:only-of-type {\n",
       "        vertical-align: middle;\n",
       "    }\n",
       "\n",
       "    .dataframe tbody tr th {\n",
       "        vertical-align: top;\n",
       "    }\n",
       "\n",
       "    .dataframe thead th {\n",
       "        text-align: right;\n",
       "    }\n",
       "</style>\n",
       "<table border=\"1\" class=\"dataframe\">\n",
       "  <thead>\n",
       "    <tr style=\"text-align: right;\">\n",
       "      <th></th>\n",
       "      <th>date</th>\n",
       "      <th>hr</th>\n",
       "    </tr>\n",
       "  </thead>\n",
       "  <tbody>\n",
       "    <tr>\n",
       "      <th>0</th>\n",
       "      <td>2020-03-08</td>\n",
       "      <td>100.150000</td>\n",
       "    </tr>\n",
       "    <tr>\n",
       "      <th>1</th>\n",
       "      <td>2020-03-09</td>\n",
       "      <td>95.483333</td>\n",
       "    </tr>\n",
       "    <tr>\n",
       "      <th>2</th>\n",
       "      <td>2020-03-10</td>\n",
       "      <td>88.666667</td>\n",
       "    </tr>\n",
       "    <tr>\n",
       "      <th>3</th>\n",
       "      <td>2020-03-11</td>\n",
       "      <td>102.533333</td>\n",
       "    </tr>\n",
       "    <tr>\n",
       "      <th>4</th>\n",
       "      <td>2020-03-12</td>\n",
       "      <td>93.950000</td>\n",
       "    </tr>\n",
       "  </tbody>\n",
       "</table>\n",
       "</div>"
      ],
      "text/plain": [
       "         date          hr\n",
       "0  2020-03-08  100.150000\n",
       "1  2020-03-09   95.483333\n",
       "2  2020-03-10   88.666667\n",
       "3  2020-03-11  102.533333\n",
       "4  2020-03-12   93.950000"
      ]
     },
     "execution_count": 238,
     "metadata": {},
     "output_type": "execute_result"
    }
   ],
   "source": [
    "dfhr.head(5)"
   ]
  },
  {
   "cell_type": "code",
   "execution_count": 239,
   "metadata": {},
   "outputs": [
    {
     "data": {
      "text/plain": [
       "<Figure size 432x288 with 0 Axes>"
      ]
     },
     "metadata": {},
     "output_type": "display_data"
    },
    {
     "data": {
      "image/png": "[encoded data removed]",
      "text/plain": [
       "<Figure size 1440x504 with 1 Axes>"
      ]
     },
     "metadata": {},
     "output_type": "display_data"
    },
    {
     "data": {
      "text/plain": [
       "<Figure size 432x288 with 0 Axes>"
      ]
     },
     "metadata": {},
     "output_type": "display_data"
    }
   ],
   "source": [
    "fighr = plt.gcf()\n",
    "if(duration == 1):\n",
    "    plt.figure(figsize=(20, 7))\n",
    "    plt.title(\"Heartrate Graph\")\n",
    "    plt.plot(df['hour'], dfhr['value'], color=\"#FF0000\", linewidth=1)\n",
    "    plt.xlabel(\"Time (hr)\", fontsize=16)\n",
    "    plt.ylabel(\"Amplitude (bpm)\")\n",
    "    plt.show()\n",
    "    plt.draw()\n",
    "else:\n",
    "    plt.figure(figsize=(20, 7))\n",
    "    plt.title(\"Heartrate Graph\")\n",
    "    plt.plot(dfhr['date'], dfhr['hr'], color=\"#a03e3e\", linewidth=2)\n",
    "    plt.xlabel(\"Time (hr)\", fontsize=16)\n",
    "    plt.ylabel(\"Amplitude (bpm)\")\n",
    "    plt.show()\n",
    "    plt.draw()\n",
    "    \n",
    "fighr.savefig('hr.png', dpi=100)\n",
    "#store HR to firebase\n",
    "imagePath = \"hr.png\"\n",
    "imageBlob = bucket.blob(userID+\"/DoctorReport/heartrate\")\n",
    "imageBlob.upload_from_filename(imagePath)\n",
    "os.remove(\"hr.png\")"
   ]
  },
  {
   "cell_type": "code",
   "execution_count": 240,
   "metadata": {},
   "outputs": [],
   "source": [
    "# plot HR\n",
    "#fig1 = plt.gcf()\n",
    "#plt.plot(df['hour'], df['value'])\n",
    "#plt.show()\n",
    "#plt.draw()\n",
    "\n",
    "#df.plot.bar(x = 'hour', y = 'value', rot = 70, title ='Heartrate graph')\n",
    "#plt.xlabel('hour')\n",
    "#plt.ylabel('bpm')\n",
    "#plt.show()\n",
    "\n",
    "\n",
    "#fig1.savefig('hr.png', dpi=100)\n",
    "# store HR to firebase\n",
    "#imagePath = \"hr.png\"\n",
    "#imageBlob = bucket.blob(userID+\"/DoctorReport/heartrate\")\n",
    "#imageBlob.upload_from_filename(imagePath)\n",
    "#os.remove(\"hr.png\")"
   ]
  },
  {
   "cell_type": "code",
   "execution_count": 241,
   "metadata": {},
   "outputs": [],
   "source": [
    "# plot Sleep\n",
    "# max plot a 15 date only \n",
    "#fig1 = plt.gcf()\n",
    "#plt.plot(df['date'], df['sleepMin'])\n",
    "#plt.xlabel('date')\n",
    "#plt.ylabel('sleep')\n",
    "#plt.tick_params(axis='x', rotation=70)\n",
    "#plt.show()\n",
    "#plt.draw()\n",
    "#fig1.savefig('sleep.png', dpi=100)\n",
    "# store HR to firebase\n",
    "#imagePath = \"sleep.png\"\n",
    "#imageBlob = bucket.blob(userID+\"/DoctorReport/sleep\")\n",
    "#imageBlob.upload_from_filename(imagePath)\n",
    "#os.remove(\"sleep.png\")"
   ]
  },
  {
   "cell_type": "code",
   "execution_count": 242,
   "metadata": {},
   "outputs": [],
   "source": [
    "dfsleep = pd.DataFrame()\n",
    "sleeps = []\n",
    "totalsleep = 0\n",
    "rowCount = 1\n",
    "for x in range(0 ,len(dates)):\n",
    "    for row in df.itertuples():\n",
    "        if (row.date == dates[x]):\n",
    "            totalsleep = row.sleepMin\n",
    "    sleeps.append(totalsleep/60)\n",
    "    \n",
    "\n",
    "dfsleep['date'] = dates\n",
    "dfsleep['sleep'] =  sleeps"
   ]
  },
  {
   "cell_type": "code",
   "execution_count": 243,
   "metadata": {},
   "outputs": [
    {
     "data": {
      "text/html": [
       "<div>\n",
       "<style scoped>\n",
       "    .dataframe tbody tr th:only-of-type {\n",
       "        vertical-align: middle;\n",
       "    }\n",
       "\n",
       "    .dataframe tbody tr th {\n",
       "        vertical-align: top;\n",
       "    }\n",
       "\n",
       "    .dataframe thead th {\n",
       "        text-align: right;\n",
       "    }\n",
       "</style>\n",
       "<table border=\"1\" class=\"dataframe\">\n",
       "  <thead>\n",
       "    <tr style=\"text-align: right;\">\n",
       "      <th></th>\n",
       "      <th>date</th>\n",
       "      <th>sleep</th>\n",
       "    </tr>\n",
       "  </thead>\n",
       "  <tbody>\n",
       "    <tr>\n",
       "      <th>25</th>\n",
       "      <td>2020-04-02</td>\n",
       "      <td>5.366667</td>\n",
       "    </tr>\n",
       "    <tr>\n",
       "      <th>26</th>\n",
       "      <td>2020-04-03</td>\n",
       "      <td>10.350000</td>\n",
       "    </tr>\n",
       "    <tr>\n",
       "      <th>27</th>\n",
       "      <td>2020-04-04</td>\n",
       "      <td>8.883333</td>\n",
       "    </tr>\n",
       "    <tr>\n",
       "      <th>28</th>\n",
       "      <td>2020-04-05</td>\n",
       "      <td>0.000000</td>\n",
       "    </tr>\n",
       "    <tr>\n",
       "      <th>29</th>\n",
       "      <td>2020-04-06</td>\n",
       "      <td>4.650000</td>\n",
       "    </tr>\n",
       "  </tbody>\n",
       "</table>\n",
       "</div>"
      ],
      "text/plain": [
       "          date      sleep\n",
       "25  2020-04-02   5.366667\n",
       "26  2020-04-03  10.350000\n",
       "27  2020-04-04   8.883333\n",
       "28  2020-04-05   0.000000\n",
       "29  2020-04-06   4.650000"
      ]
     },
     "execution_count": 243,
     "metadata": {},
     "output_type": "execute_result"
    }
   ],
   "source": [
    "dfsleep.tail(5)"
   ]
  },
  {
   "cell_type": "code",
   "execution_count": 244,
   "metadata": {},
   "outputs": [
    {
     "data": {
      "image/png": "[encoded data removed]",
      "text/plain": [
       "<Figure size 432x288 with 1 Axes>"
      ]
     },
     "metadata": {},
     "output_type": "display_data"
    },
    {
     "data": {
      "text/plain": [
       "<Figure size 432x288 with 0 Axes>"
      ]
     },
     "metadata": {},
     "output_type": "display_data"
    }
   ],
   "source": [
    "\n",
    "#19b2e6\n",
    "figs = dfsleep.plot.bar(x = 'date', y = 'sleep', rot = 70, title ='Sleep Analysis', color= '#f7d236', capstyle = 'round').get_figure()\n",
    "plt.xlabel('Date')\n",
    "plt.ylabel('Sleep (hr)')\n",
    "plt.show()\n",
    "plt.draw()\n",
    "\n",
    "#store sleep in storage\n",
    "figs.savefig('sleep.png', dpi=None)\n",
    "imagePath = \"sleep.png\"\n",
    "imageBlob = bucket.blob(userID+\"/DoctorReport/sleep\")\n",
    "imageBlob.upload_from_filename(imagePath)\n",
    "os.remove(\"sleep.png\")\n"
   ]
  },
  {
   "cell_type": "code",
   "execution_count": 245,
   "metadata": {},
   "outputs": [],
   "source": [
    "# Change Label values to num, to represent them in a barchart\n",
    "nums=[]\n",
    "for row in Labeled_df.itertuples():\n",
    "    if row.Label == 'Low' or row.Label == 'LowA':\n",
    "        nums.append(1)\n",
    "    elif row.Label == 'Meduim':\n",
    "        nums.append(2)\n",
    "    else:\n",
    "        nums.append(3)\n",
    "Labeled_df['numLabel'] = nums"
   ]
  },
  {
   "cell_type": "code",
   "execution_count": 246,
   "metadata": {},
   "outputs": [],
   "source": [
    "# Get anxiety level by day and store it in a new data frame\n",
    "plot_df = pd.DataFrame()\n",
    "avgAnxiety = []\n",
    "totalAnxiety = 0\n",
    "rowCount = 1\n",
    "for x in range(0 ,len(dates)):\n",
    "    for row in Labeled_df.itertuples():\n",
    "        if (row.date == dates[x]):\n",
    "            rowCount += 1\n",
    "            totalAnxiety += row.numLabel\n",
    "    avgAnxiety.append(totalAnxiety/rowCount)\n",
    "    \n",
    "\n",
    "plot_df['date'] = dates\n",
    "plot_df['Anxiety'] = avgAnxiety"
   ]
  },
  {
   "cell_type": "code",
   "execution_count": 247,
   "metadata": {},
   "outputs": [
    {
     "data": {
      "text/html": [
       "<div>\n",
       "<style scoped>\n",
       "    .dataframe tbody tr th:only-of-type {\n",
       "        vertical-align: middle;\n",
       "    }\n",
       "\n",
       "    .dataframe tbody tr th {\n",
       "        vertical-align: top;\n",
       "    }\n",
       "\n",
       "    .dataframe thead th {\n",
       "        text-align: right;\n",
       "    }\n",
       "</style>\n",
       "<table border=\"1\" class=\"dataframe\">\n",
       "  <thead>\n",
       "    <tr style=\"text-align: right;\">\n",
       "      <th></th>\n",
       "      <th>date</th>\n",
       "      <th>Anxiety</th>\n",
       "    </tr>\n",
       "  </thead>\n",
       "  <tbody>\n",
       "    <tr>\n",
       "      <th>25</th>\n",
       "      <td>2020-04-02</td>\n",
       "      <td>1.867925</td>\n",
       "    </tr>\n",
       "    <tr>\n",
       "      <th>26</th>\n",
       "      <td>2020-04-03</td>\n",
       "      <td>1.872107</td>\n",
       "    </tr>\n",
       "    <tr>\n",
       "      <th>27</th>\n",
       "      <td>2020-04-04</td>\n",
       "      <td>1.876325</td>\n",
       "    </tr>\n",
       "    <tr>\n",
       "      <th>28</th>\n",
       "      <td>2020-04-05</td>\n",
       "      <td>1.878190</td>\n",
       "    </tr>\n",
       "    <tr>\n",
       "      <th>29</th>\n",
       "      <td>2020-04-06</td>\n",
       "      <td>1.887701</td>\n",
       "    </tr>\n",
       "  </tbody>\n",
       "</table>\n",
       "</div>"
      ],
      "text/plain": [
       "          date   Anxiety\n",
       "25  2020-04-02  1.867925\n",
       "26  2020-04-03  1.872107\n",
       "27  2020-04-04  1.876325\n",
       "28  2020-04-05  1.878190\n",
       "29  2020-04-06  1.887701"
      ]
     },
     "execution_count": 247,
     "metadata": {},
     "output_type": "execute_result"
    }
   ],
   "source": [
    "plot_df.tail(5)"
   ]
  },
  {
   "cell_type": "code",
   "execution_count": 248,
   "metadata": {},
   "outputs": [
    {
     "name": "stderr",
     "output_type": "stream",
     "text": [
      "C:\\Users\\Dell\\Anaconda3\\lib\\site-packages\\ipykernel_launcher.py:4: UserWarning: In Matplotlib 3.3 individual lines on a stem plot will be added as a LineCollection instead of individual lines. This significantly improves the performance of a stem plot. To remove this warning and switch to the new behaviour, set the \"use_line_collection\" keyword argument to True.\n",
      "  after removing the cwd from sys.path.\n"
     ]
    },
    {
     "data": {
      "text/plain": [
       "(0, 3)"
      ]
     },
     "execution_count": 248,
     "metadata": {},
     "output_type": "execute_result"
    },
    {
     "data": {
      "image/png": "[encoded data removed]",
      "text/plain": [
       "<Figure size 432x288 with 1 Axes>"
      ]
     },
     "metadata": {},
     "output_type": "display_data"
    }
   ],
   "source": [
    "fig, ax = plt.subplots()\n",
    "\n",
    "# Draw the stem and circle\n",
    "ax.stem(plot_df.date, plot_df.Anxiety, basefmt=' ')\n",
    "plt.tick_params(axis='x', rotation=70)\n",
    "\n",
    "# Start the graph at 0\n",
    "ax.set_ylim(0, 3)"
   ]
  },
  {
   "cell_type": "code",
   "execution_count": 249,
   "metadata": {},
   "outputs": [
    {
     "data": {
      "image/png": "[encoded data removed]",
      "text/plain": [
       "<Figure size 432x288 with 1 Axes>"
      ]
     },
     "metadata": {},
     "output_type": "display_data"
    }
   ],
   "source": [
    "fig, ax = plt.subplots()\n",
    "\n",
    "x = np.array(plot_df['date'])\n",
    "y = np.array(plot_df['Anxiety'])\n",
    "\n",
    "#set plot points and formatting\n",
    "plt.bar(plot_df['date'], plot_df['Anxiety'], color='#19b2e6', label='Anxiety', linewidth=1)\n",
    "plt.tick_params(axis='x', rotation=70)\n",
    "\n",
    "\n",
    "\n",
    "#set limits\n",
    "y_ticks = np.arange(0, 3.5, 0.5)\n",
    "ax.set_ylim([y_ticks[0] - 0, y_ticks[-1] + 0.5])\n",
    "ax.set_yticklabels(y_ticks)\n",
    "\n",
    "# rotate and align the tick labels so they look better\n",
    "\n",
    "#Labels\n",
    "ax.set_title('Anxiety level (Throughout week)')\n",
    "plt.xlabel('Date')\n",
    "plt.ylabel('Low      Meduim        High', fontsize= 12)\n",
    "ax.yaxis.set_label_coords(-0.1, 0.47)\n",
    "plt.legend()\n",
    "\n",
    "#Show figure\n",
    "plt.show(fig)"
   ]
  },
  {
   "cell_type": "code",
   "execution_count": 250,
   "metadata": {
    "scrolled": true
   },
   "outputs": [
    {
     "data": {
      "text/plain": [
       "<Figure size 432x288 with 0 Axes>"
      ]
     },
     "metadata": {},
     "output_type": "display_data"
    },
    {
     "data": {
      "image/png": "[encoded data removed]",
      "text/plain": [
       "<Figure size 432x288 with 1 Axes>"
      ]
     },
     "metadata": {},
     "output_type": "display_data"
    },
    {
     "data": {
      "text/plain": [
       "<Figure size 432x288 with 0 Axes>"
      ]
     },
     "metadata": {},
     "output_type": "display_data"
    }
   ],
   "source": [
    "# Anxiety level chart\n",
    "\n",
    "figa = plt.gcf()\n",
    "#plt.figure(figsize=(20,7))\n",
    "plot_df.plot.bar(x = 'date', y = 'Anxiety', rot = 70, title ='Anxiety level (Throughout week)', color= '#19b2e6')\n",
    "plt.xlabel('Date')\n",
    "plt.ylabel('Low             Meduim               High')\n",
    "plt.show()\n",
    "plt.draw()\n",
    "\n",
    "#store anxiety level in storage\n",
    "#figa.savefig('AL.png', dpi = 100)\n",
    "#imagePath = \"AL.png\"\n",
    "#imageBlob = bucket.blob(userID+\"/lastGeneratedPatientReport/AL\")\n",
    "#imageBlob.upload_from_filename(imagePath)\n",
    "#os.remove(\"AL.png\")\n"
   ]
  },
  {
   "cell_type": "code",
   "execution_count": 251,
   "metadata": {},
   "outputs": [],
   "source": [
    "dfstep = pd.DataFrame()\n",
    "avgSteps = []\n",
    "totalsteps = 0\n",
    "rowCount = 1\n",
    "for x in range(0 ,len(dates)):\n",
    "    for row in Labeled_df.itertuples():\n",
    "        if (row.date == dates[x]):\n",
    "            rowCount += 1\n",
    "            totalsteps += row.TotalSteps\n",
    "    avgSteps.append(totalsteps/rowCount)\n",
    "    \n",
    "\n",
    "dfstep['date'] = dates\n",
    "dfstep['Steps'] = avgSteps"
   ]
  },
  {
   "cell_type": "code",
   "execution_count": 252,
   "metadata": {},
   "outputs": [
    {
     "data": {
      "text/html": [
       "<div>\n",
       "<style scoped>\n",
       "    .dataframe tbody tr th:only-of-type {\n",
       "        vertical-align: middle;\n",
       "    }\n",
       "\n",
       "    .dataframe tbody tr th {\n",
       "        vertical-align: top;\n",
       "    }\n",
       "\n",
       "    .dataframe thead th {\n",
       "        text-align: right;\n",
       "    }\n",
       "</style>\n",
       "<table border=\"1\" class=\"dataframe\">\n",
       "  <thead>\n",
       "    <tr style=\"text-align: right;\">\n",
       "      <th></th>\n",
       "      <th>date</th>\n",
       "      <th>Steps</th>\n",
       "    </tr>\n",
       "  </thead>\n",
       "  <tbody>\n",
       "    <tr>\n",
       "      <th>0</th>\n",
       "      <td>2020-03-08</td>\n",
       "      <td>5173.440000</td>\n",
       "    </tr>\n",
       "    <tr>\n",
       "      <th>1</th>\n",
       "      <td>2020-03-09</td>\n",
       "      <td>3431.510204</td>\n",
       "    </tr>\n",
       "    <tr>\n",
       "      <th>2</th>\n",
       "      <td>2020-03-10</td>\n",
       "      <td>3092.712329</td>\n",
       "    </tr>\n",
       "    <tr>\n",
       "      <th>3</th>\n",
       "      <td>2020-03-11</td>\n",
       "      <td>3263.752577</td>\n",
       "    </tr>\n",
       "    <tr>\n",
       "      <th>4</th>\n",
       "      <td>2020-03-12</td>\n",
       "      <td>3058.724138</td>\n",
       "    </tr>\n",
       "  </tbody>\n",
       "</table>\n",
       "</div>"
      ],
      "text/plain": [
       "         date        Steps\n",
       "0  2020-03-08  5173.440000\n",
       "1  2020-03-09  3431.510204\n",
       "2  2020-03-10  3092.712329\n",
       "3  2020-03-11  3263.752577\n",
       "4  2020-03-12  3058.724138"
      ]
     },
     "execution_count": 252,
     "metadata": {},
     "output_type": "execute_result"
    }
   ],
   "source": [
    "dfstep.head(5)"
   ]
  },
  {
   "cell_type": "code",
   "execution_count": 253,
   "metadata": {},
   "outputs": [
    {
     "data": {
      "text/plain": [
       "<Figure size 432x288 with 0 Axes>"
      ]
     },
     "metadata": {},
     "output_type": "display_data"
    },
    {
     "data": {
      "image/png": "[encoded data removed]",
      "text/plain": [
       "<Figure size 1440x504 with 1 Axes>"
      ]
     },
     "metadata": {},
     "output_type": "display_data"
    },
    {
     "data": {
      "text/plain": [
       "<Figure size 432x288 with 0 Axes>"
      ]
     },
     "metadata": {},
     "output_type": "display_data"
    }
   ],
   "source": [
    "# Plot Steps\n",
    "\n",
    "figst = plt.gcf()\n",
    "plt.figure(figsize=(20,7))\n",
    "plt.title(\"Activity (Daily total steps)\")\n",
    "plt.fill_between(dfstep['date'], dfstep['Steps'], color=\"#bdffba\", linewidth=1)\n",
    "plt.plot(dfstep['date'], dfstep['Steps'], color=\"#378a34\", linewidth=1)\n",
    "plt.xlabel(\"Date\", fontsize=16)\n",
    "plt.ylabel(\"Total steps\")\n",
    "plt.show()\n",
    "plt.draw()\n",
    "\n",
    "#store anxiety level in storage\n",
    "figst.savefig('steps.png', dpi = 100)\n",
    "imagePath = \"steps.png\"\n",
    "imageBlob = bucket.blob(userID+\"/DoctorReport/steps\")\n",
    "imageBlob.upload_from_filename(imagePath)\n",
    "os.remove(\"steps.png\")"
   ]
  },
  {
   "cell_type": "code",
   "execution_count": null,
   "metadata": {},
   "outputs": [],
   "source": []
  }
 ],
 "metadata": {
  "kernelspec": {
   "display_name": "Python 3",
   "language": "python",
   "name": "python3"
  },
  "language_info": {
   "codemirror_mode": {
    "name": "ipython",
    "version": 3
   },
   "file_extension": ".py",
   "mimetype": "text/x-python",
   "name": "python",
   "nbconvert_exporter": "python",
   "pygments_lexer": "ipython3",
   "version": "3.7.7"
  }
 },
 "nbformat": 4,
 "nbformat_minor": 2
}
